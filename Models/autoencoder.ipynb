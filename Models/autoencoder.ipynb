{
 "cells": [
  {
   "cell_type": "markdown",
   "source": [
    "# Imports"
   ],
   "metadata": {
    "collapsed": false
   },
   "id": "734d6e65ccd56aa5"
  },
  {
   "cell_type": "code",
   "execution_count": 1,
   "outputs": [],
   "source": [
    "from sklearn.model_selection import train_test_split\n",
    "import numpy as np\n",
    "import matplotlib.pyplot as plt"
   ],
   "metadata": {
    "collapsed": false,
    "ExecuteTime": {
     "end_time": "2023-12-14T17:11:31.196251300Z",
     "start_time": "2023-12-14T17:11:30.611640900Z"
    }
   },
   "id": "15778aff33c642d1"
  },
  {
   "cell_type": "code",
   "execution_count": 2,
   "outputs": [],
   "source": [
    "import importlib\n",
    "import data_loading\n",
    "import data_processing\n",
    "\n",
    "importlib.reload(data_loading)\n",
    "importlib.reload(data_processing)\n",
    "\n",
    "from data_loading import load_dataset, create_input_space, augment_data\n",
    "from data_processing import preprocess_signals, normalize_data"
   ],
   "metadata": {
    "collapsed": false,
    "ExecuteTime": {
     "end_time": "2023-12-14T17:11:31.421436400Z",
     "start_time": "2023-12-14T17:11:31.198256500Z"
    }
   },
   "id": "cbe9fe761df53b4a"
  },
  {
   "cell_type": "code",
   "execution_count": 3,
   "outputs": [],
   "source": [
    "data = load_dataset(signal_names=['ecg', 'gsr'])"
   ],
   "metadata": {
    "collapsed": false,
    "ExecuteTime": {
     "end_time": "2023-12-14T17:12:27.344530500Z",
     "start_time": "2023-12-14T17:11:31.423816400Z"
    }
   },
   "id": "ececcbaa7c42ed"
  },
  {
   "cell_type": "code",
   "execution_count": 4,
   "outputs": [
    {
     "name": "stdout",
     "output_type": "stream",
     "text": [
      "8600\n",
      "2816\n"
     ]
    }
   ],
   "source": [
    "print(len(data))\n",
    "print(len(data[0]['signals']['ecg']))"
   ],
   "metadata": {
    "collapsed": false,
    "ExecuteTime": {
     "end_time": "2023-12-14T17:12:27.353552Z",
     "start_time": "2023-12-14T17:12:27.347546300Z"
    }
   },
   "id": "8c06ce03a2505410"
  },
  {
   "cell_type": "markdown",
   "source": [
    "# Preprocessing"
   ],
   "metadata": {
    "collapsed": false
   },
   "id": "7ba362486cdd5070"
  },
  {
   "cell_type": "code",
   "execution_count": 5,
   "outputs": [],
   "source": [
    "data_filtered = preprocess_signals(data, 512, 256)"
   ],
   "metadata": {
    "collapsed": false,
    "ExecuteTime": {
     "end_time": "2023-12-14T17:12:34.479437500Z",
     "start_time": "2023-12-14T17:12:27.401228500Z"
    }
   },
   "id": "434bc3f2e4ab25a6"
  },
  {
   "cell_type": "code",
   "execution_count": 6,
   "outputs": [
    {
     "name": "stdout",
     "output_type": "stream",
     "text": [
      "(8600, 1408, 2)\n",
      "(8600,)\n"
     ]
    }
   ],
   "source": [
    "X, y = create_input_space(data_filtered)"
   ],
   "metadata": {
    "collapsed": false,
    "ExecuteTime": {
     "end_time": "2023-12-14T17:12:37.272369900Z",
     "start_time": "2023-12-14T17:12:34.481946500Z"
    }
   },
   "id": "171bcb1c1515581d"
  },
  {
   "cell_type": "code",
   "execution_count": 7,
   "outputs": [],
   "source": [
    "X = normalize_data(X, local=False)"
   ],
   "metadata": {
    "collapsed": false,
    "ExecuteTime": {
     "end_time": "2023-12-14T17:12:38.637729100Z",
     "start_time": "2023-12-14T17:12:37.355533100Z"
    }
   },
   "id": "92f65a87350c8b41"
  },
  {
   "cell_type": "code",
   "execution_count": 8,
   "outputs": [
    {
     "name": "stdout",
     "output_type": "stream",
     "text": [
      "(77400, 1152, 2)\n",
      "(77400,)\n"
     ]
    }
   ],
   "source": [
    "augmented_X, augmented_y = augment_data(X, y)"
   ],
   "metadata": {
    "collapsed": false,
    "ExecuteTime": {
     "end_time": "2023-12-14T17:12:39.449232700Z",
     "start_time": "2023-12-14T17:12:38.637729100Z"
    }
   },
   "id": "dc2a5d9fa69de70"
  },
  {
   "cell_type": "code",
   "execution_count": 28,
   "outputs": [],
   "source": [
    "X_train, X_test, y_train, y_test = train_test_split(augmented_X, augmented_y, test_size=0.05, random_state=42)"
   ],
   "metadata": {
    "collapsed": false,
    "ExecuteTime": {
     "end_time": "2023-12-14T17:46:35.333806700Z",
     "start_time": "2023-12-14T17:46:28.648826500Z"
    }
   },
   "id": "a37307dc5078b178"
  },
  {
   "cell_type": "markdown",
   "source": [
    "# Model"
   ],
   "metadata": {
    "collapsed": false
   },
   "id": "65ddb4a075f18857"
  },
  {
   "cell_type": "code",
   "execution_count": 36,
   "outputs": [],
   "source": [
    "from tensorflow.keras.layers import Input, Dense, Reshape, Conv1D, MaxPooling1D, UpSampling1D, Multiply, GaussianNoise, GlobalAveragePooling1D\n",
    "from tensorflow.keras.models import Model\n",
    "from tensorflow.keras import backend as K\n",
    "\n",
    "def squeeze_excite_block(input, ratio=16):\n",
    "    \"\"\"Create a squeeze and excitation block.\"\"\"\n",
    "    filters = input.shape[-1]\n",
    "    se = GlobalAveragePooling1D()(input)\n",
    "    se = Reshape((1, filters))(se)\n",
    "    se = Dense(filters // ratio, activation='relu')(se)\n",
    "    se = Dense(filters, activation='sigmoid')(se)\n",
    "    return Multiply()([input, se])\n",
    "\n",
    "def create_encoder(input_shape, noise_level=0.1):\n",
    "    \"\"\"Create a more compressed denoising encoder with squeeze-excite blocks.\"\"\"\n",
    "    inputs = Input(shape=input_shape)\n",
    "    x = GaussianNoise(noise_level)(inputs)\n",
    "\n",
    "    # First convolutional block with squeeze-excite\n",
    "    x = Conv1D(32, 3, activation='relu', padding='same')(x)\n",
    "    x = squeeze_excite_block(x)\n",
    "    x = MaxPooling1D(2, padding='same')(x)  # Reducing dimensionality\n",
    "\n",
    "    # Second convolutional block with squeeze-excite\n",
    "    x = Conv1D(16, 3, activation='relu', padding='same', strides=2)(x)\n",
    "    x = squeeze_excite_block(x)\n",
    "    x = MaxPooling1D(2, padding='same')(x)  # Further reducing dimensionality\n",
    "\n",
    "    # Third convolutional block for more compression\n",
    "    x = Conv1D(8, 3, activation='relu', padding='same')(x)\n",
    "    x = squeeze_excite_block(x)\n",
    "    encoded = MaxPooling1D(2, padding='same')(x)  # Final reduction\n",
    "\n",
    "    return Model(inputs, encoded, name='encoder')\n",
    "\n",
    "\n",
    "def create_decoder(encoded_shape):\n",
    "    \"\"\"Create a decoder to match the updated, more compressed encoder with squeeze-excite blocks.\"\"\"\n",
    "    encoded_input = Input(shape=encoded_shape)\n",
    "\n",
    "    # First upsample block with squeeze-excite\n",
    "    x = Conv1D(8, 3, activation='relu', padding='same')(encoded_input)\n",
    "    x = squeeze_excite_block(x)\n",
    "    x = UpSampling1D(2)(x)  # Upsampling to 144\n",
    "\n",
    "    # Second upsample block with squeeze-excite\n",
    "    x = Conv1D(16, 3, activation='relu', padding='same')(x)\n",
    "    x = squeeze_excite_block(x)\n",
    "    x = UpSampling1D(2)(x)  # Upsampling to 288\n",
    "\n",
    "    # Third upsample block with squeeze-excite\n",
    "    x = Conv1D(32, 3, activation='relu', padding='same')(x)\n",
    "    x = squeeze_excite_block(x)\n",
    "    x = UpSampling1D(4)(x)  # Upsampling to 1152\n",
    "\n",
    "    # Final reconstruction layer\n",
    "    decoded = Conv1D(1, 3, activation='sigmoid', padding='same')(x)\n",
    "\n",
    "    return Model(encoded_input, decoded, name='decoder')\n"
   ],
   "metadata": {
    "collapsed": false,
    "ExecuteTime": {
     "end_time": "2023-12-14T17:50:25.165244100Z",
     "start_time": "2023-12-14T17:50:25.157221600Z"
    }
   },
   "id": "6b6f937802a8bedf"
  },
  {
   "cell_type": "code",
   "execution_count": 37,
   "outputs": [
    {
     "name": "stdout",
     "output_type": "stream",
     "text": [
      "Model: \"autoencoder_ECG\"\n",
      "_________________________________________________________________\n",
      " Layer (type)                Output Shape              Param #   \n",
      "=================================================================\n",
      " input_41 (InputLayer)       [(None, 1152, 1)]         0         \n",
      "                                                                 \n",
      " encoder (Functional)        (None, 72, 8)             2291      \n",
      "                                                                 \n",
      " decoder (Functional)        (None, 1152, 1)           2484      \n",
      "                                                                 \n",
      "=================================================================\n",
      "Total params: 4775 (18.65 KB)\n",
      "Trainable params: 4775 (18.65 KB)\n",
      "Non-trainable params: 0 (0.00 Byte)\n",
      "_________________________________________________________________\n",
      "Model: \"autoencoder_GSR\"\n",
      "_________________________________________________________________\n",
      " Layer (type)                Output Shape              Param #   \n",
      "=================================================================\n",
      " input_44 (InputLayer)       [(None, 1152, 1)]         0         \n",
      "                                                                 \n",
      " encoder (Functional)        (None, 72, 8)             2291      \n",
      "                                                                 \n",
      " decoder (Functional)        (None, 1152, 1)           2484      \n",
      "                                                                 \n",
      "=================================================================\n",
      "Total params: 4775 (18.65 KB)\n",
      "Trainable params: 4775 (18.65 KB)\n",
      "Non-trainable params: 0 (0.00 Byte)\n",
      "_________________________________________________________________\n"
     ]
    }
   ],
   "source": [
    "# Signal specific input shapes\n",
    "signal_shapes = {\n",
    "    'ECG': (1152, 1),\n",
    "    'GSR': (1152, 1),\n",
    "    # Add more signals as needed\n",
    "}\n",
    "\n",
    "# Creating a dictionary to hold each signal's autoencoder\n",
    "autoencoders = {}\n",
    "\n",
    "for signal_type, input_shape in signal_shapes.items():\n",
    "    encoder = create_encoder(input_shape)\n",
    "    decoder = create_decoder(encoder.output_shape[1:])\n",
    "\n",
    "    autoencoder_input = Input(shape=input_shape)\n",
    "    encoded = encoder(autoencoder_input)\n",
    "    decoded = decoder(encoded)\n",
    "\n",
    "    autoencoder = Model(autoencoder_input, decoded, name=f'autoencoder_{signal_type}')\n",
    "    autoencoder.compile(optimizer='adam', loss='mean_squared_error')\n",
    "\n",
    "    autoencoders[signal_type] = autoencoder\n",
    "    autoencoder.summary()"
   ],
   "metadata": {
    "collapsed": false,
    "ExecuteTime": {
     "end_time": "2023-12-14T17:50:29.005428600Z",
     "start_time": "2023-12-14T17:50:27.934747Z"
    }
   },
   "id": "28cc07a5645ef10c"
  },
  {
   "cell_type": "code",
   "execution_count": 31,
   "outputs": [
    {
     "name": "stdout",
     "output_type": "stream",
     "text": [
      "Num GPUs Available:  1\n"
     ]
    }
   ],
   "source": [
    "import tensorflow as tf\n",
    "print(\"Num GPUs Available: \", len(tf.config.list_physical_devices('GPU')))"
   ],
   "metadata": {
    "collapsed": false,
    "ExecuteTime": {
     "end_time": "2023-12-14T17:46:36.463767700Z",
     "start_time": "2023-12-14T17:46:36.454415900Z"
    }
   },
   "id": "8d048b49cfb6d7db"
  },
  {
   "cell_type": "code",
   "execution_count": null,
   "outputs": [],
   "source": [
    "# Assuming X_train and y_train are dictionaries with keys corresponding to signal types\n",
    "# and values being the training data for each signal\n",
    "X_train = {\n",
    "    'ECG': X_train[:,:,0],  \n",
    "    'GSR': X_train[:,:,1]\n",
    "    # Add more signals as needed\n",
    "}\n",
    "\n",
    "# In case of autoencoders, usually, the target is the same as the input (for reconstruction tasks)\n",
    "y_train = X_train"
   ],
   "metadata": {
    "collapsed": false
   },
   "id": "31a6f74c02625f93"
  },
  {
   "cell_type": "code",
   "execution_count": 38,
   "outputs": [
    {
     "name": "stdout",
     "output_type": "stream",
     "text": [
      "Training autoencoder for ECG...\n",
      "Epoch 1/50\n",
      "1839/1839 [==============================] - 152s 78ms/step - loss: 0.0048 - val_loss: 2.0635e-04\n",
      "Epoch 2/50\n",
      "1839/1839 [==============================] - 144s 78ms/step - loss: 3.2253e-04 - val_loss: 1.7137e-04\n",
      "Epoch 3/50\n",
      "1839/1839 [==============================] - 139s 76ms/step - loss: 2.7852e-04 - val_loss: 1.2343e-04\n",
      "Epoch 4/50\n",
      "1839/1839 [==============================] - 137s 74ms/step - loss: 2.6147e-04 - val_loss: 1.2492e-04\n",
      "Epoch 5/50\n",
      "1839/1839 [==============================] - 135s 73ms/step - loss: 2.5062e-04 - val_loss: 1.3623e-04\n",
      "Epoch 6/50\n",
      "1839/1839 [==============================] - 134s 73ms/step - loss: 2.4288e-04 - val_loss: 1.1013e-04\n",
      "Epoch 7/50\n",
      "1839/1839 [==============================] - 137s 74ms/step - loss: 2.3829e-04 - val_loss: 1.1507e-04\n",
      "Epoch 8/50\n",
      "1839/1839 [==============================] - 131s 71ms/step - loss: 2.3375e-04 - val_loss: 9.3609e-05\n",
      "Epoch 9/50\n",
      "1839/1839 [==============================] - 118s 64ms/step - loss: 2.2790e-04 - val_loss: 1.0150e-04\n",
      "Epoch 10/50\n",
      "1839/1839 [==============================] - 117s 64ms/step - loss: 2.2401e-04 - val_loss: 1.1802e-04\n",
      "Epoch 11/50\n",
      "1839/1839 [==============================] - 117s 64ms/step - loss: 2.2122e-04 - val_loss: 9.1362e-05\n",
      "Epoch 12/50\n",
      "1839/1839 [==============================] - 119s 65ms/step - loss: 2.1849e-04 - val_loss: 9.6634e-05\n",
      "Epoch 13/50\n",
      "1839/1839 [==============================] - 120s 65ms/step - loss: 2.1644e-04 - val_loss: 1.0936e-04\n",
      "Epoch 14/50\n",
      "1839/1839 [==============================] - 120s 65ms/step - loss: 2.1555e-04 - val_loss: 1.0588e-04\n",
      "Epoch 15/50\n",
      "1839/1839 [==============================] - 122s 66ms/step - loss: 2.1345e-04 - val_loss: 1.1130e-04\n",
      "Epoch 16/50\n",
      "1839/1839 [==============================] - 117s 64ms/step - loss: 2.1230e-04 - val_loss: 1.1238e-04\n",
      "Epoch 17/50\n",
      "1839/1839 [==============================] - 121s 66ms/step - loss: 2.1111e-04 - val_loss: 1.1935e-04\n",
      "Epoch 18/50\n",
      "1839/1839 [==============================] - 91s 50ms/step - loss: 2.0993e-04 - val_loss: 1.1734e-04\n",
      "Epoch 19/50\n",
      "1839/1839 [==============================] - 55s 30ms/step - loss: 2.0956e-04 - val_loss: 1.1480e-04\n",
      "Epoch 20/50\n",
      "1839/1839 [==============================] - 52s 28ms/step - loss: 2.0830e-04 - val_loss: 1.1644e-04\n",
      "Epoch 21/50\n",
      "1839/1839 [==============================] - 54s 29ms/step - loss: 2.0733e-04 - val_loss: 1.3139e-04\n",
      "Epoch 22/50\n",
      "1839/1839 [==============================] - 52s 28ms/step - loss: 2.0642e-04 - val_loss: 1.2861e-04\n",
      "Epoch 23/50\n",
      "1839/1839 [==============================] - 55s 30ms/step - loss: 2.0644e-04 - val_loss: 1.1511e-04\n",
      "Epoch 24/50\n",
      "1839/1839 [==============================] - 55s 30ms/step - loss: 2.0605e-04 - val_loss: 1.2639e-04\n",
      "Epoch 25/50\n",
      "1839/1839 [==============================] - 55s 30ms/step - loss: 2.0537e-04 - val_loss: 1.1506e-04\n",
      "Epoch 26/50\n",
      "1839/1839 [==============================] - 55s 30ms/step - loss: 2.0488e-04 - val_loss: 1.2888e-04\n",
      "Epoch 27/50\n",
      "1839/1839 [==============================] - 55s 30ms/step - loss: 2.0419e-04 - val_loss: 1.3297e-04\n",
      "Epoch 28/50\n",
      "1839/1839 [==============================] - 66s 36ms/step - loss: 2.0351e-04 - val_loss: 1.2841e-04\n",
      "Epoch 29/50\n",
      " 965/1839 [==============>...............] - ETA: 27s - loss: 2.0217e-04"
     ]
    },
    {
     "ename": "KeyboardInterrupt",
     "evalue": "",
     "output_type": "error",
     "traceback": [
      "\u001B[0;31m---------------------------------------------------------------------------\u001B[0m",
      "\u001B[0;31mKeyboardInterrupt\u001B[0m                         Traceback (most recent call last)",
      "Cell \u001B[0;32mIn[38], line 8\u001B[0m\n\u001B[1;32m      6\u001B[0m \u001B[38;5;28;01mfor\u001B[39;00m signal_type, autoencoder \u001B[38;5;129;01min\u001B[39;00m autoencoders\u001B[38;5;241m.\u001B[39mitems():\n\u001B[1;32m      7\u001B[0m     \u001B[38;5;28mprint\u001B[39m(\u001B[38;5;124mf\u001B[39m\u001B[38;5;124m\"\u001B[39m\u001B[38;5;124mTraining autoencoder for \u001B[39m\u001B[38;5;132;01m{\u001B[39;00msignal_type\u001B[38;5;132;01m}\u001B[39;00m\u001B[38;5;124m...\u001B[39m\u001B[38;5;124m\"\u001B[39m)\n\u001B[0;32m----> 8\u001B[0m     autoencoder\u001B[38;5;241m.\u001B[39mfit(\n\u001B[1;32m      9\u001B[0m         X_train[signal_type], y_train[signal_type],\n\u001B[1;32m     10\u001B[0m         epochs\u001B[38;5;241m=\u001B[39mepochs,\n\u001B[1;32m     11\u001B[0m         batch_size\u001B[38;5;241m=\u001B[39mbatch_size,\n\u001B[1;32m     12\u001B[0m         validation_split\u001B[38;5;241m=\u001B[39m\u001B[38;5;241m0.2\u001B[39m,  \u001B[38;5;66;03m# Assuming you want to use 20% of the data for validation\u001B[39;00m\n\u001B[1;32m     13\u001B[0m         shuffle\u001B[38;5;241m=\u001B[39m\u001B[38;5;28;01mTrue\u001B[39;00m\n\u001B[1;32m     14\u001B[0m     )\n",
      "File \u001B[0;32m~/miniconda3/lib/python3.11/site-packages/keras/src/utils/traceback_utils.py:65\u001B[0m, in \u001B[0;36mfilter_traceback.<locals>.error_handler\u001B[0;34m(*args, **kwargs)\u001B[0m\n\u001B[1;32m     63\u001B[0m filtered_tb \u001B[38;5;241m=\u001B[39m \u001B[38;5;28;01mNone\u001B[39;00m\n\u001B[1;32m     64\u001B[0m \u001B[38;5;28;01mtry\u001B[39;00m:\n\u001B[0;32m---> 65\u001B[0m     \u001B[38;5;28;01mreturn\u001B[39;00m fn(\u001B[38;5;241m*\u001B[39margs, \u001B[38;5;241m*\u001B[39m\u001B[38;5;241m*\u001B[39mkwargs)\n\u001B[1;32m     66\u001B[0m \u001B[38;5;28;01mexcept\u001B[39;00m \u001B[38;5;167;01mException\u001B[39;00m \u001B[38;5;28;01mas\u001B[39;00m e:\n\u001B[1;32m     67\u001B[0m     filtered_tb \u001B[38;5;241m=\u001B[39m _process_traceback_frames(e\u001B[38;5;241m.\u001B[39m__traceback__)\n",
      "File \u001B[0;32m~/miniconda3/lib/python3.11/site-packages/keras/src/engine/training.py:1807\u001B[0m, in \u001B[0;36mModel.fit\u001B[0;34m(self, x, y, batch_size, epochs, verbose, callbacks, validation_split, validation_data, shuffle, class_weight, sample_weight, initial_epoch, steps_per_epoch, validation_steps, validation_batch_size, validation_freq, max_queue_size, workers, use_multiprocessing)\u001B[0m\n\u001B[1;32m   1799\u001B[0m \u001B[38;5;28;01mwith\u001B[39;00m tf\u001B[38;5;241m.\u001B[39mprofiler\u001B[38;5;241m.\u001B[39mexperimental\u001B[38;5;241m.\u001B[39mTrace(\n\u001B[1;32m   1800\u001B[0m     \u001B[38;5;124m\"\u001B[39m\u001B[38;5;124mtrain\u001B[39m\u001B[38;5;124m\"\u001B[39m,\n\u001B[1;32m   1801\u001B[0m     epoch_num\u001B[38;5;241m=\u001B[39mepoch,\n\u001B[0;32m   (...)\u001B[0m\n\u001B[1;32m   1804\u001B[0m     _r\u001B[38;5;241m=\u001B[39m\u001B[38;5;241m1\u001B[39m,\n\u001B[1;32m   1805\u001B[0m ):\n\u001B[1;32m   1806\u001B[0m     callbacks\u001B[38;5;241m.\u001B[39mon_train_batch_begin(step)\n\u001B[0;32m-> 1807\u001B[0m     tmp_logs \u001B[38;5;241m=\u001B[39m \u001B[38;5;28mself\u001B[39m\u001B[38;5;241m.\u001B[39mtrain_function(iterator)\n\u001B[1;32m   1808\u001B[0m     \u001B[38;5;28;01mif\u001B[39;00m data_handler\u001B[38;5;241m.\u001B[39mshould_sync:\n\u001B[1;32m   1809\u001B[0m         context\u001B[38;5;241m.\u001B[39masync_wait()\n",
      "File \u001B[0;32m~/miniconda3/lib/python3.11/site-packages/tensorflow/python/util/traceback_utils.py:150\u001B[0m, in \u001B[0;36mfilter_traceback.<locals>.error_handler\u001B[0;34m(*args, **kwargs)\u001B[0m\n\u001B[1;32m    148\u001B[0m filtered_tb \u001B[38;5;241m=\u001B[39m \u001B[38;5;28;01mNone\u001B[39;00m\n\u001B[1;32m    149\u001B[0m \u001B[38;5;28;01mtry\u001B[39;00m:\n\u001B[0;32m--> 150\u001B[0m   \u001B[38;5;28;01mreturn\u001B[39;00m fn(\u001B[38;5;241m*\u001B[39margs, \u001B[38;5;241m*\u001B[39m\u001B[38;5;241m*\u001B[39mkwargs)\n\u001B[1;32m    151\u001B[0m \u001B[38;5;28;01mexcept\u001B[39;00m \u001B[38;5;167;01mException\u001B[39;00m \u001B[38;5;28;01mas\u001B[39;00m e:\n\u001B[1;32m    152\u001B[0m   filtered_tb \u001B[38;5;241m=\u001B[39m _process_traceback_frames(e\u001B[38;5;241m.\u001B[39m__traceback__)\n",
      "File \u001B[0;32m~/miniconda3/lib/python3.11/site-packages/tensorflow/python/eager/polymorphic_function/polymorphic_function.py:832\u001B[0m, in \u001B[0;36mFunction.__call__\u001B[0;34m(self, *args, **kwds)\u001B[0m\n\u001B[1;32m    829\u001B[0m compiler \u001B[38;5;241m=\u001B[39m \u001B[38;5;124m\"\u001B[39m\u001B[38;5;124mxla\u001B[39m\u001B[38;5;124m\"\u001B[39m \u001B[38;5;28;01mif\u001B[39;00m \u001B[38;5;28mself\u001B[39m\u001B[38;5;241m.\u001B[39m_jit_compile \u001B[38;5;28;01melse\u001B[39;00m \u001B[38;5;124m\"\u001B[39m\u001B[38;5;124mnonXla\u001B[39m\u001B[38;5;124m\"\u001B[39m\n\u001B[1;32m    831\u001B[0m \u001B[38;5;28;01mwith\u001B[39;00m OptionalXlaContext(\u001B[38;5;28mself\u001B[39m\u001B[38;5;241m.\u001B[39m_jit_compile):\n\u001B[0;32m--> 832\u001B[0m   result \u001B[38;5;241m=\u001B[39m \u001B[38;5;28mself\u001B[39m\u001B[38;5;241m.\u001B[39m_call(\u001B[38;5;241m*\u001B[39margs, \u001B[38;5;241m*\u001B[39m\u001B[38;5;241m*\u001B[39mkwds)\n\u001B[1;32m    834\u001B[0m new_tracing_count \u001B[38;5;241m=\u001B[39m \u001B[38;5;28mself\u001B[39m\u001B[38;5;241m.\u001B[39mexperimental_get_tracing_count()\n\u001B[1;32m    835\u001B[0m without_tracing \u001B[38;5;241m=\u001B[39m (tracing_count \u001B[38;5;241m==\u001B[39m new_tracing_count)\n",
      "File \u001B[0;32m~/miniconda3/lib/python3.11/site-packages/tensorflow/python/eager/polymorphic_function/polymorphic_function.py:868\u001B[0m, in \u001B[0;36mFunction._call\u001B[0;34m(self, *args, **kwds)\u001B[0m\n\u001B[1;32m    865\u001B[0m   \u001B[38;5;28mself\u001B[39m\u001B[38;5;241m.\u001B[39m_lock\u001B[38;5;241m.\u001B[39mrelease()\n\u001B[1;32m    866\u001B[0m   \u001B[38;5;66;03m# In this case we have created variables on the first call, so we run the\u001B[39;00m\n\u001B[1;32m    867\u001B[0m   \u001B[38;5;66;03m# defunned version which is guaranteed to never create variables.\u001B[39;00m\n\u001B[0;32m--> 868\u001B[0m   \u001B[38;5;28;01mreturn\u001B[39;00m tracing_compilation\u001B[38;5;241m.\u001B[39mcall_function(\n\u001B[1;32m    869\u001B[0m       args, kwds, \u001B[38;5;28mself\u001B[39m\u001B[38;5;241m.\u001B[39m_no_variable_creation_config\n\u001B[1;32m    870\u001B[0m   )\n\u001B[1;32m    871\u001B[0m \u001B[38;5;28;01melif\u001B[39;00m \u001B[38;5;28mself\u001B[39m\u001B[38;5;241m.\u001B[39m_variable_creation_config \u001B[38;5;129;01mis\u001B[39;00m \u001B[38;5;129;01mnot\u001B[39;00m \u001B[38;5;28;01mNone\u001B[39;00m:\n\u001B[1;32m    872\u001B[0m   \u001B[38;5;66;03m# Release the lock early so that multiple threads can perform the call\u001B[39;00m\n\u001B[1;32m    873\u001B[0m   \u001B[38;5;66;03m# in parallel.\u001B[39;00m\n\u001B[1;32m    874\u001B[0m   \u001B[38;5;28mself\u001B[39m\u001B[38;5;241m.\u001B[39m_lock\u001B[38;5;241m.\u001B[39mrelease()\n",
      "File \u001B[0;32m~/miniconda3/lib/python3.11/site-packages/tensorflow/python/eager/polymorphic_function/tracing_compilation.py:139\u001B[0m, in \u001B[0;36mcall_function\u001B[0;34m(args, kwargs, tracing_options)\u001B[0m\n\u001B[1;32m    137\u001B[0m bound_args \u001B[38;5;241m=\u001B[39m function\u001B[38;5;241m.\u001B[39mfunction_type\u001B[38;5;241m.\u001B[39mbind(\u001B[38;5;241m*\u001B[39margs, \u001B[38;5;241m*\u001B[39m\u001B[38;5;241m*\u001B[39mkwargs)\n\u001B[1;32m    138\u001B[0m flat_inputs \u001B[38;5;241m=\u001B[39m function\u001B[38;5;241m.\u001B[39mfunction_type\u001B[38;5;241m.\u001B[39munpack_inputs(bound_args)\n\u001B[0;32m--> 139\u001B[0m \u001B[38;5;28;01mreturn\u001B[39;00m function\u001B[38;5;241m.\u001B[39m_call_flat(  \u001B[38;5;66;03m# pylint: disable=protected-access\u001B[39;00m\n\u001B[1;32m    140\u001B[0m     flat_inputs, captured_inputs\u001B[38;5;241m=\u001B[39mfunction\u001B[38;5;241m.\u001B[39mcaptured_inputs\n\u001B[1;32m    141\u001B[0m )\n",
      "File \u001B[0;32m~/miniconda3/lib/python3.11/site-packages/tensorflow/python/eager/polymorphic_function/concrete_function.py:1323\u001B[0m, in \u001B[0;36mConcreteFunction._call_flat\u001B[0;34m(self, tensor_inputs, captured_inputs)\u001B[0m\n\u001B[1;32m   1319\u001B[0m possible_gradient_type \u001B[38;5;241m=\u001B[39m gradients_util\u001B[38;5;241m.\u001B[39mPossibleTapeGradientTypes(args)\n\u001B[1;32m   1320\u001B[0m \u001B[38;5;28;01mif\u001B[39;00m (possible_gradient_type \u001B[38;5;241m==\u001B[39m gradients_util\u001B[38;5;241m.\u001B[39mPOSSIBLE_GRADIENT_TYPES_NONE\n\u001B[1;32m   1321\u001B[0m     \u001B[38;5;129;01mand\u001B[39;00m executing_eagerly):\n\u001B[1;32m   1322\u001B[0m   \u001B[38;5;66;03m# No tape is watching; skip to running the function.\u001B[39;00m\n\u001B[0;32m-> 1323\u001B[0m   \u001B[38;5;28;01mreturn\u001B[39;00m \u001B[38;5;28mself\u001B[39m\u001B[38;5;241m.\u001B[39m_inference_function\u001B[38;5;241m.\u001B[39mcall_preflattened(args)\n\u001B[1;32m   1324\u001B[0m forward_backward \u001B[38;5;241m=\u001B[39m \u001B[38;5;28mself\u001B[39m\u001B[38;5;241m.\u001B[39m_select_forward_and_backward_functions(\n\u001B[1;32m   1325\u001B[0m     args,\n\u001B[1;32m   1326\u001B[0m     possible_gradient_type,\n\u001B[1;32m   1327\u001B[0m     executing_eagerly)\n\u001B[1;32m   1328\u001B[0m forward_function, args_with_tangents \u001B[38;5;241m=\u001B[39m forward_backward\u001B[38;5;241m.\u001B[39mforward()\n",
      "File \u001B[0;32m~/miniconda3/lib/python3.11/site-packages/tensorflow/python/eager/polymorphic_function/atomic_function.py:216\u001B[0m, in \u001B[0;36mAtomicFunction.call_preflattened\u001B[0;34m(self, args)\u001B[0m\n\u001B[1;32m    214\u001B[0m \u001B[38;5;28;01mdef\u001B[39;00m \u001B[38;5;21mcall_preflattened\u001B[39m(\u001B[38;5;28mself\u001B[39m, args: Sequence[core\u001B[38;5;241m.\u001B[39mTensor]) \u001B[38;5;241m-\u001B[39m\u001B[38;5;241m>\u001B[39m Any:\n\u001B[1;32m    215\u001B[0m \u001B[38;5;250m  \u001B[39m\u001B[38;5;124;03m\"\"\"Calls with flattened tensor inputs and returns the structured output.\"\"\"\u001B[39;00m\n\u001B[0;32m--> 216\u001B[0m   flat_outputs \u001B[38;5;241m=\u001B[39m \u001B[38;5;28mself\u001B[39m\u001B[38;5;241m.\u001B[39mcall_flat(\u001B[38;5;241m*\u001B[39margs)\n\u001B[1;32m    217\u001B[0m   \u001B[38;5;28;01mreturn\u001B[39;00m \u001B[38;5;28mself\u001B[39m\u001B[38;5;241m.\u001B[39mfunction_type\u001B[38;5;241m.\u001B[39mpack_output(flat_outputs)\n",
      "File \u001B[0;32m~/miniconda3/lib/python3.11/site-packages/tensorflow/python/eager/polymorphic_function/atomic_function.py:251\u001B[0m, in \u001B[0;36mAtomicFunction.call_flat\u001B[0;34m(self, *args)\u001B[0m\n\u001B[1;32m    249\u001B[0m \u001B[38;5;28;01mwith\u001B[39;00m record\u001B[38;5;241m.\u001B[39mstop_recording():\n\u001B[1;32m    250\u001B[0m   \u001B[38;5;28;01mif\u001B[39;00m \u001B[38;5;28mself\u001B[39m\u001B[38;5;241m.\u001B[39m_bound_context\u001B[38;5;241m.\u001B[39mexecuting_eagerly():\n\u001B[0;32m--> 251\u001B[0m     outputs \u001B[38;5;241m=\u001B[39m \u001B[38;5;28mself\u001B[39m\u001B[38;5;241m.\u001B[39m_bound_context\u001B[38;5;241m.\u001B[39mcall_function(\n\u001B[1;32m    252\u001B[0m         \u001B[38;5;28mself\u001B[39m\u001B[38;5;241m.\u001B[39mname,\n\u001B[1;32m    253\u001B[0m         \u001B[38;5;28mlist\u001B[39m(args),\n\u001B[1;32m    254\u001B[0m         \u001B[38;5;28mlen\u001B[39m(\u001B[38;5;28mself\u001B[39m\u001B[38;5;241m.\u001B[39mfunction_type\u001B[38;5;241m.\u001B[39mflat_outputs),\n\u001B[1;32m    255\u001B[0m     )\n\u001B[1;32m    256\u001B[0m   \u001B[38;5;28;01melse\u001B[39;00m:\n\u001B[1;32m    257\u001B[0m     outputs \u001B[38;5;241m=\u001B[39m make_call_op_in_graph(\n\u001B[1;32m    258\u001B[0m         \u001B[38;5;28mself\u001B[39m,\n\u001B[1;32m    259\u001B[0m         \u001B[38;5;28mlist\u001B[39m(args),\n\u001B[1;32m    260\u001B[0m         \u001B[38;5;28mself\u001B[39m\u001B[38;5;241m.\u001B[39m_bound_context\u001B[38;5;241m.\u001B[39mfunction_call_options\u001B[38;5;241m.\u001B[39mas_attrs(),\n\u001B[1;32m    261\u001B[0m     )\n",
      "File \u001B[0;32m~/miniconda3/lib/python3.11/site-packages/tensorflow/python/eager/context.py:1486\u001B[0m, in \u001B[0;36mContext.call_function\u001B[0;34m(self, name, tensor_inputs, num_outputs)\u001B[0m\n\u001B[1;32m   1484\u001B[0m cancellation_context \u001B[38;5;241m=\u001B[39m cancellation\u001B[38;5;241m.\u001B[39mcontext()\n\u001B[1;32m   1485\u001B[0m \u001B[38;5;28;01mif\u001B[39;00m cancellation_context \u001B[38;5;129;01mis\u001B[39;00m \u001B[38;5;28;01mNone\u001B[39;00m:\n\u001B[0;32m-> 1486\u001B[0m   outputs \u001B[38;5;241m=\u001B[39m execute\u001B[38;5;241m.\u001B[39mexecute(\n\u001B[1;32m   1487\u001B[0m       name\u001B[38;5;241m.\u001B[39mdecode(\u001B[38;5;124m\"\u001B[39m\u001B[38;5;124mutf-8\u001B[39m\u001B[38;5;124m\"\u001B[39m),\n\u001B[1;32m   1488\u001B[0m       num_outputs\u001B[38;5;241m=\u001B[39mnum_outputs,\n\u001B[1;32m   1489\u001B[0m       inputs\u001B[38;5;241m=\u001B[39mtensor_inputs,\n\u001B[1;32m   1490\u001B[0m       attrs\u001B[38;5;241m=\u001B[39mattrs,\n\u001B[1;32m   1491\u001B[0m       ctx\u001B[38;5;241m=\u001B[39m\u001B[38;5;28mself\u001B[39m,\n\u001B[1;32m   1492\u001B[0m   )\n\u001B[1;32m   1493\u001B[0m \u001B[38;5;28;01melse\u001B[39;00m:\n\u001B[1;32m   1494\u001B[0m   outputs \u001B[38;5;241m=\u001B[39m execute\u001B[38;5;241m.\u001B[39mexecute_with_cancellation(\n\u001B[1;32m   1495\u001B[0m       name\u001B[38;5;241m.\u001B[39mdecode(\u001B[38;5;124m\"\u001B[39m\u001B[38;5;124mutf-8\u001B[39m\u001B[38;5;124m\"\u001B[39m),\n\u001B[1;32m   1496\u001B[0m       num_outputs\u001B[38;5;241m=\u001B[39mnum_outputs,\n\u001B[0;32m   (...)\u001B[0m\n\u001B[1;32m   1500\u001B[0m       cancellation_manager\u001B[38;5;241m=\u001B[39mcancellation_context,\n\u001B[1;32m   1501\u001B[0m   )\n",
      "File \u001B[0;32m~/miniconda3/lib/python3.11/site-packages/tensorflow/python/eager/execute.py:53\u001B[0m, in \u001B[0;36mquick_execute\u001B[0;34m(op_name, num_outputs, inputs, attrs, ctx, name)\u001B[0m\n\u001B[1;32m     51\u001B[0m \u001B[38;5;28;01mtry\u001B[39;00m:\n\u001B[1;32m     52\u001B[0m   ctx\u001B[38;5;241m.\u001B[39mensure_initialized()\n\u001B[0;32m---> 53\u001B[0m   tensors \u001B[38;5;241m=\u001B[39m pywrap_tfe\u001B[38;5;241m.\u001B[39mTFE_Py_Execute(ctx\u001B[38;5;241m.\u001B[39m_handle, device_name, op_name,\n\u001B[1;32m     54\u001B[0m                                       inputs, attrs, num_outputs)\n\u001B[1;32m     55\u001B[0m \u001B[38;5;28;01mexcept\u001B[39;00m core\u001B[38;5;241m.\u001B[39m_NotOkStatusException \u001B[38;5;28;01mas\u001B[39;00m e:\n\u001B[1;32m     56\u001B[0m   \u001B[38;5;28;01mif\u001B[39;00m name \u001B[38;5;129;01mis\u001B[39;00m \u001B[38;5;129;01mnot\u001B[39;00m \u001B[38;5;28;01mNone\u001B[39;00m:\n",
      "\u001B[0;31mKeyboardInterrupt\u001B[0m: "
     ]
    }
   ],
   "source": [
    "# Define the number of epochs and batch size for training\n",
    "epochs = 50\n",
    "batch_size = 32\n",
    "\n",
    "# Training each autoencoder\n",
    "for signal_type, autoencoder in autoencoders.items():\n",
    "    print(f\"Training autoencoder for {signal_type}...\")\n",
    "    autoencoder.fit(\n",
    "        X_train[signal_type], y_train[signal_type],\n",
    "        epochs=epochs,\n",
    "        batch_size=batch_size,\n",
    "        validation_split=0.2,  # Assuming you want to use 20% of the data for validation\n",
    "        shuffle=True\n",
    "    )"
   ],
   "metadata": {
    "collapsed": false,
    "ExecuteTime": {
     "end_time": "2023-12-14T18:38:22.459456700Z",
     "start_time": "2023-12-14T17:50:37.283291Z"
    }
   },
   "id": "d0bbb7eba7a2c4ab"
  },
  {
   "cell_type": "code",
   "execution_count": null,
   "outputs": [],
   "source": [
    "#todo create leave one out CV for data loading - no data augmentation on test set: trim to first 4.5s\n",
    "#todo create assessment function to see models performance"
   ],
   "metadata": {
    "collapsed": false
   },
   "id": "93216930e51165de"
  }
 ],
 "metadata": {
  "kernelspec": {
   "display_name": "Python 3",
   "language": "python",
   "name": "python3"
  },
  "language_info": {
   "codemirror_mode": {
    "name": "ipython",
    "version": 2
   },
   "file_extension": ".py",
   "mimetype": "text/x-python",
   "name": "python",
   "nbconvert_exporter": "python",
   "pygments_lexer": "ipython2",
   "version": "2.7.6"
  }
 },
 "nbformat": 4,
 "nbformat_minor": 5
}
