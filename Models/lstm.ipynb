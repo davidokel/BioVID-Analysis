{
 "cells": [
  {
   "cell_type": "markdown",
   "source": [
    "# Imports"
   ],
   "metadata": {
    "collapsed": false
   },
   "id": "63bbafedd38ccdae"
  },
  {
   "cell_type": "code",
   "execution_count": 1,
   "outputs": [],
   "source": [
    "from pipeline import loading_pipeline\n",
    "from model_training import PyTorchModel\n",
    "from model_training import evaluate_classification_model\n",
    "import torch\n",
    "import torch.nn as nn\n",
    "import numpy as np"
   ],
   "metadata": {
    "collapsed": false,
    "ExecuteTime": {
     "end_time": "2023-12-19T17:54:14.277002900Z",
     "start_time": "2023-12-19T17:54:12.955294400Z"
    }
   },
   "id": "64730b6ebc2c148d"
  },
  {
   "cell_type": "code",
   "execution_count": 2,
   "outputs": [
    {
     "name": "stdout",
     "output_type": "stream",
     "text": [
      "Number of samples: 8600\n",
      "Signal Length: 2816\n",
      "X-Shape: (8100, 1408, 2)\n",
      "y-Shape: (8100,)\n",
      "X-Shape: (500, 1408, 2)\n",
      "y-Shape: (500,)\n",
      "Augmented X.shape: (40500, 1152, 2)\n",
      "Augmented y.shape: (40500,)\n",
      "Trimmed X.shape: (500, 1152, 2)\n"
     ]
    }
   ],
   "source": [
    "X_train, y_train, X_test, y_test = loading_pipeline(downsample=256)"
   ],
   "metadata": {
    "collapsed": false,
    "ExecuteTime": {
     "end_time": "2023-12-19T17:55:23.406760300Z",
     "start_time": "2023-12-19T17:54:15.242054700Z"
    }
   },
   "id": "257a1007d9650880"
  },
  {
   "cell_type": "code",
   "execution_count": 3,
   "outputs": [
    {
     "name": "stdout",
     "output_type": "stream",
     "text": [
      "Class Balance:\n",
      "Class 0: 8100 samples\n",
      "Class 1: 8100 samples\n",
      "Class 2: 8100 samples\n",
      "Class 3: 8100 samples\n",
      "Class 4: 8100 samples\n"
     ]
    }
   ],
   "source": [
    "unique, counts = np.unique(y_train, return_counts=True)\n",
    "class_balance = dict(zip(unique, counts))\n",
    "\n",
    "print(\"Class Balance:\")\n",
    "for class_label, count in class_balance.items():\n",
    "    print(f\"Class {class_label}: {count} samples\")"
   ],
   "metadata": {
    "collapsed": false,
    "ExecuteTime": {
     "end_time": "2023-12-19T17:55:23.411802600Z",
     "start_time": "2023-12-19T17:55:23.406760300Z"
    }
   },
   "id": "6aba8edfb527c688"
  },
  {
   "cell_type": "markdown",
   "source": [
    "# LSTM"
   ],
   "metadata": {
    "collapsed": false
   },
   "id": "fdc2b3eccdedf37c"
  },
  {
   "cell_type": "code",
   "execution_count": 8,
   "outputs": [],
   "source": [
    "class LSTMClassifier(nn.Module):\n",
    "    def __init__(self, input_size, hidden_size, num_layers, num_classes, dropout_rate=0.5):\n",
    "        super(LSTMClassifier, self).__init__()\n",
    "        self.hidden_size = hidden_size\n",
    "        self.num_layers = num_layers\n",
    "        self.lstm = nn.LSTM(input_size, hidden_size, num_layers,\n",
    "                            batch_first=True, dropout=dropout_rate, bidirectional=True)\n",
    "        self.fc = nn.Linear(hidden_size * 2, num_classes)  # x2 for bidirectional\n",
    "\n",
    "    def forward(self, x):\n",
    "        h0 = torch.zeros(self.num_layers * 2, x.size(0), self.hidden_size).to(x.device)  # x2 for bidirectional\n",
    "        c0 = torch.zeros(self.num_layers * 2, x.size(0), self.hidden_size).to(x.device)\n",
    "\n",
    "        out, _ = self.lstm(x, (h0, c0))\n",
    "        out = self.fc(out[:, -1, :])  # Using the last time step only\n",
    "        return out"
   ],
   "metadata": {
    "collapsed": false,
    "ExecuteTime": {
     "end_time": "2023-12-19T17:42:23.291444600Z",
     "start_time": "2023-12-19T17:42:23.274929200Z"
    }
   },
   "id": "850332543bb3935c"
  },
  {
   "cell_type": "code",
   "execution_count": 9,
   "outputs": [],
   "source": [
    "# Initialize the LSTM model\n",
    "input_size = X_train.shape[2]  # Number of features per time step\n",
    "num_classes = len(np.unique(y_train))  # Number of unique classes\n",
    "hidden_size = 64  # Can be adjusted\n",
    "num_layers = 2  # Can be adjusted\n",
    "\n",
    "lstm_model = LSTMClassifier(input_size=input_size, hidden_size=hidden_size,\n",
    "                            num_layers=num_layers, num_classes=num_classes, dropout_rate=0.5)\n",
    "\n",
    "# Loss and Optimizer\n",
    "criterion = nn.CrossEntropyLoss()\n",
    "optimizer = torch.optim.Adam(lstm_model.parameters(), lr=0.001)\n",
    "\n",
    "# Device configuration\n",
    "device = torch.device('cuda' if torch.cuda.is_available() else 'cpu')\n",
    "\n",
    "# PyTorchModel Wrapper\n",
    "model = PyTorchModel(lstm_model, criterion, optimizer, device)"
   ],
   "metadata": {
    "collapsed": false,
    "ExecuteTime": {
     "end_time": "2023-12-19T17:42:23.313482600Z",
     "start_time": "2023-12-19T17:42:23.289446100Z"
    }
   },
   "id": "eb39c6fe01073926"
  },
  {
   "cell_type": "code",
   "execution_count": 10,
   "outputs": [
    {
     "name": "stdout",
     "output_type": "stream",
     "text": [
      "Epoch [1/25], Train Loss: 1.6089, Val Loss: 1.6075\n",
      "Epoch [2/25], Train Loss: 1.6085, Val Loss: 1.6069\n",
      "Epoch [3/25], Train Loss: 1.6085, Val Loss: 1.6065\n",
      "Epoch [4/25], Train Loss: 1.6084, Val Loss: 1.6075\n",
      "Epoch [5/25], Train Loss: 1.6083, Val Loss: 1.6073\n",
      "Epoch [6/25], Train Loss: 1.6082, Val Loss: 1.6072\n",
      "Epoch [7/25], Train Loss: 1.6081, Val Loss: 1.6064\n",
      "Epoch [8/25], Train Loss: 1.6082, Val Loss: 1.6078\n",
      "Epoch [9/25], Train Loss: 1.6082, Val Loss: 1.6067\n",
      "Epoch [10/25], Train Loss: 1.6081, Val Loss: 1.6068\n",
      "Epoch [11/25], Train Loss: 1.6081, Val Loss: 1.6063\n",
      "Epoch [12/25], Train Loss: 1.6081, Val Loss: 1.6065\n",
      "Epoch [13/25], Train Loss: 1.6080, Val Loss: 1.6068\n",
      "Epoch [14/25], Train Loss: 1.6079, Val Loss: 1.6067\n",
      "Epoch [15/25], Train Loss: 1.6078, Val Loss: 1.6065\n",
      "Epoch [16/25], Train Loss: 1.6077, Val Loss: 1.6058\n",
      "Epoch [17/25], Train Loss: 1.6075, Val Loss: 1.6066\n",
      "Epoch [18/25], Train Loss: 1.6076, Val Loss: 1.6060\n",
      "Epoch [19/25], Train Loss: 1.6075, Val Loss: 1.6067\n",
      "Epoch [20/25], Train Loss: 1.6076, Val Loss: 1.6064\n",
      "Epoch [21/25], Train Loss: 1.6076, Val Loss: 1.6061\n",
      "Early stopping triggered\n",
      "Accuracy: 0.4\n",
      "Precision: 0.26666666666666666\n",
      "Recall: 0.4\n",
      "F1-Score: 0.32\n"
     ]
    },
    {
     "name": "stderr",
     "output_type": "stream",
     "text": [
      "/home/davidokel/miniconda3/envs/ml_env/lib/python3.11/site-packages/sklearn/metrics/_classification.py:1344: UndefinedMetricWarning: Precision is ill-defined and being set to 0.0 in labels with no predicted samples. Use `zero_division` parameter to control this behavior.\n",
      "  _warn_prf(average, modifier, msg_start, len(result))\n",
      "/home/davidokel/miniconda3/envs/ml_env/lib/python3.11/site-packages/sklearn/metrics/_classification.py:1344: UndefinedMetricWarning: Recall is ill-defined and being set to 0.0 in labels with no true samples. Use `zero_division` parameter to control this behavior.\n",
      "  _warn_prf(average, modifier, msg_start, len(result))\n"
     ]
    },
    {
     "data": {
      "text/plain": "<Figure size 640x480 with 2 Axes>",
      "image/png": "[encoded data removed]"
     },
     "metadata": {},
     "output_type": "display_data"
    },
    {
     "name": "stdout",
     "output_type": "stream",
     "text": [
      "\n",
      "Classification Report:\n",
      "\n",
      "              precision    recall  f1-score   support\n",
      "\n",
      "           0       0.00      0.00      0.00         1\n",
      "           2       0.00      0.00      0.00         2\n",
      "           3       0.00      0.00      0.00         0\n",
      "           4       0.67      1.00      0.80         2\n",
      "\n",
      "    accuracy                           0.40         5\n",
      "   macro avg       0.17      0.25      0.20         5\n",
      "weighted avg       0.27      0.40      0.32         5\n"
     ]
    },
    {
     "name": "stderr",
     "output_type": "stream",
     "text": [
      "/home/davidokel/miniconda3/envs/ml_env/lib/python3.11/site-packages/sklearn/metrics/_classification.py:1344: UndefinedMetricWarning: Precision and F-score are ill-defined and being set to 0.0 in labels with no predicted samples. Use `zero_division` parameter to control this behavior.\n",
      "  _warn_prf(average, modifier, msg_start, len(result))\n",
      "/home/davidokel/miniconda3/envs/ml_env/lib/python3.11/site-packages/sklearn/metrics/_classification.py:1344: UndefinedMetricWarning: Recall and F-score are ill-defined and being set to 0.0 in labels with no true samples. Use `zero_division` parameter to control this behavior.\n",
      "  _warn_prf(average, modifier, msg_start, len(result))\n",
      "/home/davidokel/miniconda3/envs/ml_env/lib/python3.11/site-packages/sklearn/metrics/_classification.py:1344: UndefinedMetricWarning: Precision and F-score are ill-defined and being set to 0.0 in labels with no predicted samples. Use `zero_division` parameter to control this behavior.\n",
      "  _warn_prf(average, modifier, msg_start, len(result))\n",
      "/home/davidokel/miniconda3/envs/ml_env/lib/python3.11/site-packages/sklearn/metrics/_classification.py:1344: UndefinedMetricWarning: Recall and F-score are ill-defined and being set to 0.0 in labels with no true samples. Use `zero_division` parameter to control this behavior.\n",
      "  _warn_prf(average, modifier, msg_start, len(result))\n",
      "/home/davidokel/miniconda3/envs/ml_env/lib/python3.11/site-packages/sklearn/metrics/_classification.py:1344: UndefinedMetricWarning: Precision and F-score are ill-defined and being set to 0.0 in labels with no predicted samples. Use `zero_division` parameter to control this behavior.\n",
      "  _warn_prf(average, modifier, msg_start, len(result))\n",
      "/home/davidokel/miniconda3/envs/ml_env/lib/python3.11/site-packages/sklearn/metrics/_classification.py:1344: UndefinedMetricWarning: Recall and F-score are ill-defined and being set to 0.0 in labels with no true samples. Use `zero_division` parameter to control this behavior.\n",
      "  _warn_prf(average, modifier, msg_start, len(result))\n"
     ]
    }
   ],
   "source": [
    "evaluate_classification_model(model, X_train, y_train, X_test, y_test)"
   ],
   "metadata": {
    "collapsed": false,
    "ExecuteTime": {
     "end_time": "2023-12-19T17:48:44.919251Z",
     "start_time": "2023-12-19T17:42:23.302447200Z"
    }
   },
   "id": "b63eb8c4d16e7af1"
  }
 ],
 "metadata": {
  "kernelspec": {
   "display_name": "Python 3",
   "language": "python",
   "name": "python3"
  },
  "language_info": {
   "codemirror_mode": {
    "name": "ipython",
    "version": 2
   },
   "file_extension": ".py",
   "mimetype": "text/x-python",
   "name": "python",
   "nbconvert_exporter": "python",
   "pygments_lexer": "ipython2",
   "version": "2.7.6"
  }
 },
 "nbformat": 4,
 "nbformat_minor": 5
}
