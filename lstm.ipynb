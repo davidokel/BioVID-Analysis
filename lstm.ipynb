{
 "cells": [
  {
   "cell_type": "markdown",
   "source": [
    "# Imports"
   ],
   "metadata": {
    "collapsed": false
   },
   "id": "63bbafedd38ccdae"
  },
  {
   "cell_type": "code",
   "execution_count": 1,
   "outputs": [],
   "source": [
    "from pipeline import loading_pipeline\n",
    "from model_training import PyTorchModel\n",
    "from model_training import evaluate_classification_model\n",
    "import torch\n",
    "import torch.nn as nn\n",
    "import numpy as np"
   ],
   "metadata": {
    "collapsed": false,
    "ExecuteTime": {
     "end_time": "2023-12-19T12:03:47.943328800Z",
     "start_time": "2023-12-19T12:03:46.026506100Z"
    }
   },
   "id": "64730b6ebc2c148d"
  },
  {
   "cell_type": "code",
   "execution_count": 2,
   "outputs": [
    {
     "name": "stdout",
     "output_type": "stream",
     "text": [
      "Number of samples: 8600\n",
      "Signal Length: 2816\n",
      "X-Shape: (8100, 1408, 2)\n",
      "y-Shape: (8100,)\n",
      "X-Shape: (500, 1408, 2)\n",
      "y-Shape: (500,)\n",
      "Augmented X.shape: (72900, 1152, 2)\n",
      "Augmented y.shape: (72900,)\n",
      "Trimmed X.shape: (500, 1152, 2)\n"
     ]
    }
   ],
   "source": [
    "X_train, y_train, X_test, y_test = loading_pipeline()"
   ],
   "metadata": {
    "collapsed": false,
    "ExecuteTime": {
     "end_time": "2023-12-19T12:06:22.200734700Z",
     "start_time": "2023-12-19T12:03:47.945329200Z"
    }
   },
   "id": "257a1007d9650880"
  },
  {
   "cell_type": "code",
   "execution_count": 8,
   "outputs": [
    {
     "name": "stdout",
     "output_type": "stream",
     "text": [
      "Class Balance:\n",
      "Class 0: 40500 samples\n",
      "Class 1: 8100 samples\n",
      "Class 2: 8100 samples\n",
      "Class 3: 8100 samples\n",
      "Class 4: 8100 samples\n"
     ]
    }
   ],
   "source": [
    "unique, counts = np.unique(y_train, return_counts=True)\n",
    "class_balance = dict(zip(unique, counts))\n",
    "\n",
    "print(\"Class Balance:\")\n",
    "for class_label, count in class_balance.items():\n",
    "    print(f\"Class {class_label}: {count} samples\")"
   ],
   "metadata": {
    "collapsed": false,
    "ExecuteTime": {
     "end_time": "2023-12-19T12:14:25.292162500Z",
     "start_time": "2023-12-19T12:14:25.249143800Z"
    }
   },
   "id": "6aba8edfb527c688"
  },
  {
   "cell_type": "markdown",
   "source": [
    "# LSTM"
   ],
   "metadata": {
    "collapsed": false
   },
   "id": "fdc2b3eccdedf37c"
  },
  {
   "cell_type": "code",
   "execution_count": 3,
   "outputs": [],
   "source": [
    "class LSTMClassifier(nn.Module):\n",
    "    def __init__(self, input_size, hidden_size, num_layers, num_classes):\n",
    "        super(LSTMClassifier, self).__init__()\n",
    "        self.hidden_size = hidden_size\n",
    "        self.num_layers = num_layers\n",
    "        self.lstm = nn.LSTM(input_size, hidden_size, num_layers, batch_first=True)\n",
    "        self.fc = nn.Linear(hidden_size, num_classes)\n",
    "\n",
    "    def forward(self, x):\n",
    "        # Initialize hidden and cell states\n",
    "        h0 = torch.zeros(self.num_layers, x.size(0), self.hidden_size).to(x.device)\n",
    "        c0 = torch.zeros(self.num_layers, x.size(0), self.hidden_size).to(x.device)\n",
    "\n",
    "        # Forward propagate LSTM\n",
    "        out, _ = self.lstm(x, (h0, c0))  # out: tensor of shape (batch_size, seq_length, hidden_size)\n",
    "\n",
    "        # Decode the hidden state of the last time step\n",
    "        out = self.fc(out[:, -1, :])\n",
    "        return out"
   ],
   "metadata": {
    "collapsed": false,
    "ExecuteTime": {
     "end_time": "2023-12-19T12:06:22.206255500Z",
     "start_time": "2023-12-19T12:06:22.200734700Z"
    }
   },
   "id": "850332543bb3935c"
  },
  {
   "cell_type": "code",
   "execution_count": 4,
   "outputs": [],
   "source": [
    "# Initialize the LSTM model\n",
    "input_size = X_train.shape[2]  # Number of features per time step\n",
    "num_classes = len(np.unique(y_train))  # Number of unique classes\n",
    "hidden_size = 128  # Can be adjusted\n",
    "num_layers = 2  # Can be adjusted\n",
    "\n",
    "lstm_model = LSTMClassifier(input_size, hidden_size, num_layers, num_classes)\n",
    "\n",
    "# Loss and Optimizer\n",
    "criterion = nn.CrossEntropyLoss()\n",
    "optimizer = torch.optim.Adam(lstm_model.parameters(), lr=0.001)\n",
    "\n",
    "# Device configuration\n",
    "device = torch.device('cuda' if torch.cuda.is_available() else 'cpu')\n",
    "\n",
    "# PyTorchModel Wrapper\n",
    "model = PyTorchModel(lstm_model, criterion, optimizer, device)"
   ],
   "metadata": {
    "collapsed": false,
    "ExecuteTime": {
     "end_time": "2023-12-19T12:06:22.523194200Z",
     "start_time": "2023-12-19T12:06:22.204258100Z"
    }
   },
   "id": "eb39c6fe01073926"
  },
  {
   "cell_type": "code",
   "execution_count": 5,
   "outputs": [
    {
     "name": "stdout",
     "output_type": "stream",
     "text": [
      "Epoch [1/25], Train Loss: 1.1558, Val Loss: 0.8844\n",
      "Epoch [2/25], Train Loss: 0.9968, Val Loss: 0.8845\n",
      "Epoch [3/25], Train Loss: 0.8961, Val Loss: 0.8815\n",
      "Epoch [4/25], Train Loss: 0.8956, Val Loss: 0.8807\n",
      "Epoch [5/25], Train Loss: 0.9152, Val Loss: 0.8815\n",
      "Epoch [6/25], Train Loss: 0.8951, Val Loss: 0.8801\n",
      "Epoch [7/25], Train Loss: 0.8947, Val Loss: 0.8811\n",
      "Epoch [8/25], Train Loss: 0.9148, Val Loss: 0.8810\n",
      "Epoch [9/25], Train Loss: 0.9173, Val Loss: 0.9064\n",
      "Early stopping triggered\n",
      "Accuracy: 0.2\n",
      "Precision: 0.04\n",
      "Recall: 0.2\n",
      "F1-Score: 0.06666666666666667\n"
     ]
    },
    {
     "name": "stderr",
     "output_type": "stream",
     "text": [
      "/home/davidokel/miniconda3/envs/ml_env/lib/python3.11/site-packages/sklearn/metrics/_classification.py:1344: UndefinedMetricWarning: Precision is ill-defined and being set to 0.0 in labels with no predicted samples. Use `zero_division` parameter to control this behavior.\n",
      "  _warn_prf(average, modifier, msg_start, len(result))\n"
     ]
    },
    {
     "data": {
      "text/plain": "<Figure size 640x480 with 2 Axes>",
      "image/png": "[encoded data removed]"
     },
     "metadata": {},
     "output_type": "display_data"
    },
    {
     "name": "stdout",
     "output_type": "stream",
     "text": [
      "\n",
      "Classification Report:\n",
      "\n",
      "              precision    recall  f1-score   support\n",
      "\n",
      "           0       0.20      1.00      0.33       100\n",
      "           1       0.00      0.00      0.00       100\n",
      "           2       0.00      0.00      0.00       100\n",
      "           3       0.00      0.00      0.00       100\n",
      "           4       0.00      0.00      0.00       100\n",
      "\n",
      "    accuracy                           0.20       500\n",
      "   macro avg       0.04      0.20      0.07       500\n",
      "weighted avg       0.04      0.20      0.07       500\n"
     ]
    },
    {
     "name": "stderr",
     "output_type": "stream",
     "text": [
      "/home/davidokel/miniconda3/envs/ml_env/lib/python3.11/site-packages/sklearn/metrics/_classification.py:1344: UndefinedMetricWarning: Precision and F-score are ill-defined and being set to 0.0 in labels with no predicted samples. Use `zero_division` parameter to control this behavior.\n",
      "  _warn_prf(average, modifier, msg_start, len(result))\n",
      "/home/davidokel/miniconda3/envs/ml_env/lib/python3.11/site-packages/sklearn/metrics/_classification.py:1344: UndefinedMetricWarning: Precision and F-score are ill-defined and being set to 0.0 in labels with no predicted samples. Use `zero_division` parameter to control this behavior.\n",
      "  _warn_prf(average, modifier, msg_start, len(result))\n",
      "/home/davidokel/miniconda3/envs/ml_env/lib/python3.11/site-packages/sklearn/metrics/_classification.py:1344: UndefinedMetricWarning: Precision and F-score are ill-defined and being set to 0.0 in labels with no predicted samples. Use `zero_division` parameter to control this behavior.\n",
      "  _warn_prf(average, modifier, msg_start, len(result))\n"
     ]
    }
   ],
   "source": [
    "evaluate_classification_model(model, X_train, y_train, X_test, y_test)"
   ],
   "metadata": {
    "collapsed": false,
    "ExecuteTime": {
     "end_time": "2023-12-19T12:11:07.529759200Z",
     "start_time": "2023-12-19T12:06:22.526194Z"
    }
   },
   "id": "b63eb8c4d16e7af1"
  }
 ],
 "metadata": {
  "kernelspec": {
   "display_name": "Python 3",
   "language": "python",
   "name": "python3"
  },
  "language_info": {
   "codemirror_mode": {
    "name": "ipython",
    "version": 2
   },
   "file_extension": ".py",
   "mimetype": "text/x-python",
   "name": "python",
   "nbconvert_exporter": "python",
   "pygments_lexer": "ipython2",
   "version": "2.7.6"
  }
 },
 "nbformat": 4,
 "nbformat_minor": 5
}
