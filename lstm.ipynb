{
 "cells": [
  {
   "cell_type": "markdown",
   "source": [
    "# Imports"
   ],
   "metadata": {
    "collapsed": false
   },
   "id": "63bbafedd38ccdae"
  },
  {
   "cell_type": "code",
   "execution_count": null,
   "outputs": [],
   "source": [
    "from sklearn.model_selection import train_test_split\n",
    "import numpy as np\n",
    "import matplotlib.pyplot as plt"
   ],
   "metadata": {
    "collapsed": false
   },
   "id": "568b3e9f7eae4303"
  },
  {
   "cell_type": "code",
   "execution_count": null,
   "outputs": [],
   "source": [
    "import importlib\n",
    "import data_loading\n",
    "import data_processing\n",
    "\n",
    "importlib.reload(data_loading)\n",
    "importlib.reload(data_processing)\n",
    "\n",
    "from data_loading import load_dataset, create_input_space, augment_data\n",
    "from data_processing import preprocess_signals, normalize_data"
   ],
   "metadata": {
    "collapsed": false
   },
   "id": "65e4fe318fa9d65a"
  },
  {
   "cell_type": "code",
   "execution_count": null,
   "outputs": [],
   "source": [
    "data = load_dataset(signal_names=['ecg', 'gsr'])"
   ],
   "metadata": {
    "collapsed": false
   },
   "id": "d8923d5f01245642"
  },
  {
   "cell_type": "code",
   "execution_count": null,
   "outputs": [],
   "source": [
    "print(len(data))\n",
    "print(len(data[0]['signals']['ecg']))"
   ],
   "metadata": {
    "collapsed": false
   },
   "id": "2c761d53d6604a7d"
  },
  {
   "cell_type": "markdown",
   "source": [
    "# Preprocessing"
   ],
   "metadata": {
    "collapsed": false
   },
   "id": "75a56660653c3280"
  },
  {
   "cell_type": "code",
   "execution_count": null,
   "outputs": [],
   "source": [
    "data_filtered = preprocess_signals(data, 512, 256)"
   ],
   "metadata": {
    "collapsed": false
   },
   "id": "5c76b3e0d97815ec"
  },
  {
   "cell_type": "code",
   "execution_count": null,
   "outputs": [],
   "source": [
    "X, y = create_input_space(data_filtered)"
   ],
   "metadata": {
    "collapsed": false
   },
   "id": "2ddc375ebaf6a711"
  },
  {
   "cell_type": "code",
   "execution_count": null,
   "outputs": [],
   "source": [
    "X = normalize_data(X, local=False)"
   ],
   "metadata": {
    "collapsed": false
   },
   "id": "a6c82480e38178e4"
  },
  {
   "cell_type": "code",
   "execution_count": null,
   "outputs": [],
   "source": [
    "augmented_X, augmented_y = augment_data(X, y)"
   ],
   "metadata": {
    "collapsed": false
   },
   "id": "4d67739d108cd4c7"
  },
  {
   "cell_type": "code",
   "execution_count": null,
   "outputs": [],
   "source": [
    "X_train, X_test, y_train, y_test = train_test_split(augmented_X, augmented_y, test_size=0.05, random_state=42)"
   ],
   "metadata": {
    "collapsed": false
   },
   "id": "a1e64b2e708e860d"
  },
  {
   "cell_type": "markdown",
   "source": [],
   "metadata": {
    "collapsed": false
   },
   "id": "cf4243d729941dec"
  }
 ],
 "metadata": {
  "kernelspec": {
   "display_name": "Python 3",
   "language": "python",
   "name": "python3"
  },
  "language_info": {
   "codemirror_mode": {
    "name": "ipython",
    "version": 2
   },
   "file_extension": ".py",
   "mimetype": "text/x-python",
   "name": "python",
   "nbconvert_exporter": "python",
   "pygments_lexer": "ipython2",
   "version": "2.7.6"
  }
 },
 "nbformat": 4,
 "nbformat_minor": 5
}
