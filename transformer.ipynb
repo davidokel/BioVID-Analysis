{
 "cells": [
  {
   "cell_type": "markdown",
   "source": [
    "# Imports"
   ],
   "metadata": {
    "collapsed": false
   },
   "id": "983d470bcf669a5d"
  },
  {
   "cell_type": "code",
   "execution_count": 1,
   "outputs": [],
   "source": [
    "from sklearn.model_selection import train_test_split\n",
    "import numpy as np\n",
    "import matplotlib.pyplot as plt"
   ],
   "metadata": {
    "collapsed": false,
    "ExecuteTime": {
     "end_time": "2023-12-12T13:03:37.311509100Z",
     "start_time": "2023-12-12T13:03:36.275026800Z"
    }
   },
   "id": "2f610922111145f1"
  },
  {
   "cell_type": "code",
   "execution_count": 2,
   "outputs": [],
   "source": [
    "import importlib\n",
    "import data_loading\n",
    "import data_processing\n",
    "\n",
    "importlib.reload(data_loading)\n",
    "importlib.reload(data_processing)\n",
    "\n",
    "from data_loading import load_dataset, create_input_space, augment_data\n",
    "from data_processing import preprocess_signals, normalize_data"
   ],
   "metadata": {
    "collapsed": false,
    "ExecuteTime": {
     "end_time": "2023-12-12T13:03:37.868740500Z",
     "start_time": "2023-12-12T13:03:37.314509200Z"
    }
   },
   "id": "986604e30a586c88"
  },
  {
   "cell_type": "code",
   "execution_count": 3,
   "outputs": [
    {
     "name": "stdout",
     "output_type": "stream",
     "text": [
      "8600\n",
      "2816\n"
     ]
    }
   ],
   "source": [
    "data = load_dataset()\n",
    "print(len(data))\n",
    "print(len(data[0]['signals']['ecg']))"
   ],
   "metadata": {
    "collapsed": false,
    "ExecuteTime": {
     "end_time": "2023-12-12T13:06:07.113215100Z",
     "start_time": "2023-12-12T13:03:37.867740Z"
    }
   },
   "id": "7fff42360f031577"
  },
  {
   "cell_type": "markdown",
   "source": [
    "# Preprocessing"
   ],
   "metadata": {
    "collapsed": false
   },
   "id": "b835ab60c01a73e8"
  },
  {
   "cell_type": "code",
   "execution_count": 4,
   "outputs": [
    {
     "name": "stdout",
     "output_type": "stream",
     "text": [
      "(8600, 1408, 5)\n",
      "(8600,)\n"
     ]
    }
   ],
   "source": [
    "data_filtered = preprocess_signals(data, 512, 256)\n",
    "X, y = create_input_space(data_filtered)"
   ],
   "metadata": {
    "collapsed": false,
    "ExecuteTime": {
     "end_time": "2023-12-12T13:06:20.789613800Z",
     "start_time": "2023-12-12T13:06:07.108711300Z"
    }
   },
   "id": "f642ad865688466d"
  },
  {
   "cell_type": "code",
   "execution_count": 5,
   "outputs": [
    {
     "name": "stdout",
     "output_type": "stream",
     "text": [
      "Signal 0: Global Max = 4718.812958166116, Global Min = -2272.420349595169\n",
      "Signal 1: Global Max = 18.741088911129566, Global Min = 0.5993188470456602\n",
      "Signal 2: Global Max = 1602.2092519123194, Global Min = -1641.8367371633237\n",
      "Signal 3: Global Max = 4170.338911821895, Global Min = -3100.581652393902\n",
      "Signal 4: Global Max = 1855.0312371419202, Global Min = -1944.8529389968269\n"
     ]
    }
   ],
   "source": [
    "num_signals = X.shape[2]  # 5 signals\n",
    "\n",
    "for signal_idx in range(num_signals):\n",
    "    global_max = np.max(X[:, :, signal_idx])  # Global max for this signal across all samples\n",
    "    global_min = np.min(X[:, :, signal_idx])  # Global min for this signal across all samples\n",
    "\n",
    "    print(f\"Signal {signal_idx}: Global Max = {global_max}, Global Min = {global_min}\")"
   ],
   "metadata": {
    "collapsed": false,
    "ExecuteTime": {
     "end_time": "2023-12-12T13:06:22.142462400Z",
     "start_time": "2023-12-12T13:06:21.032746600Z"
    }
   },
   "id": "5885ad4a297a7a62"
  },
  {
   "cell_type": "code",
   "execution_count": 6,
   "outputs": [],
   "source": [
    "X = normalize_data(X)"
   ],
   "metadata": {
    "collapsed": false,
    "ExecuteTime": {
     "end_time": "2023-12-12T13:06:30.755756600Z",
     "start_time": "2023-12-12T13:06:22.147983300Z"
    }
   },
   "id": "8329e10f2bf9c4a4"
  },
  {
   "cell_type": "code",
   "execution_count": 7,
   "outputs": [
    {
     "name": "stdout",
     "output_type": "stream",
     "text": [
      "Signal 0: Global Max = 1.0000000000000002, Global Min = 0.0\n",
      "Signal 1: Global Max = 1.0000000000000284, Global Min = 0.0\n",
      "Signal 2: Global Max = 1.0000000000000002, Global Min = 0.0\n",
      "Signal 3: Global Max = 1.0000000000000002, Global Min = 0.0\n",
      "Signal 4: Global Max = 1.0000000000000002, Global Min = 0.0\n"
     ]
    }
   ],
   "source": [
    "num_signals = X.shape[2]  # 5 signals\n",
    "\n",
    "for signal_idx in range(num_signals):\n",
    "    global_max = np.max(X[:, :, signal_idx])  # Global max for this signal across all samples\n",
    "    global_min = np.min(X[:, :, signal_idx])  # Global min for this signal across all samples\n",
    "\n",
    "    print(f\"Signal {signal_idx}: Global Max = {global_max}, Global Min = {global_min}\")"
   ],
   "metadata": {
    "collapsed": false,
    "ExecuteTime": {
     "end_time": "2023-12-12T13:06:30.996282700Z",
     "start_time": "2023-12-12T13:06:30.757263100Z"
    }
   },
   "id": "8f6667f296eb4272"
  },
  {
   "cell_type": "code",
   "execution_count": 8,
   "outputs": [
    {
     "name": "stdout",
     "output_type": "stream",
     "text": [
      "(77400, 1152, 5)\n",
      "(77400,)\n"
     ]
    }
   ],
   "source": [
    "augmented_X, augmented_y = augment_data(X, y)"
   ],
   "metadata": {
    "collapsed": false,
    "ExecuteTime": {
     "end_time": "2023-12-12T13:06:31.294537500Z",
     "start_time": "2023-12-12T13:06:30.994282800Z"
    }
   },
   "id": "be224611f0ca6be"
  },
  {
   "cell_type": "code",
   "execution_count": 9,
   "outputs": [],
   "source": [
    "X_train, X_test, y_train, y_test = train_test_split(augmented_X, augmented_y, test_size=0.05, random_state=42)"
   ],
   "metadata": {
    "collapsed": false,
    "ExecuteTime": {
     "end_time": "2023-12-12T13:06:31.983429500Z",
     "start_time": "2023-12-12T13:06:31.287027200Z"
    }
   },
   "id": "26395c1c3d09264a"
  },
  {
   "cell_type": "code",
   "execution_count": 10,
   "outputs": [
    {
     "name": "stdout",
     "output_type": "stream",
     "text": [
      "(73530, 1152, 5)\n",
      "(3870, 1152, 5)\n"
     ]
    }
   ],
   "source": [
    "print(X_train.shape)\n",
    "print(X_test.shape)"
   ],
   "metadata": {
    "collapsed": false,
    "ExecuteTime": {
     "end_time": "2023-12-12T13:06:31.992034400Z",
     "start_time": "2023-12-12T13:06:31.986429900Z"
    }
   },
   "id": "3e8238527436b8ad"
  },
  {
   "cell_type": "markdown",
   "source": [
    "# Transformer"
   ],
   "metadata": {
    "collapsed": false
   },
   "id": "685e14502ef06014"
  },
  {
   "cell_type": "code",
   "execution_count": 11,
   "outputs": [],
   "source": [
    "num_classes = np.unique(y_train)"
   ],
   "metadata": {
    "collapsed": false,
    "ExecuteTime": {
     "end_time": "2023-12-12T13:06:32.002559500Z",
     "start_time": "2023-12-12T13:06:32.002053900Z"
    }
   },
   "id": "4a0afdaa6f1a03df"
  },
  {
   "cell_type": "code",
   "execution_count": null,
   "id": "initial_id",
   "metadata": {
    "collapsed": true,
    "is_executing": true,
    "ExecuteTime": {
     "start_time": "2023-12-12T13:06:47.029703600Z"
    }
   },
   "outputs": [],
   "source": [
    "from sklearn.preprocessing import KBinsDiscretizer\n",
    "\n",
    "# Quantization of ECG data\n",
    "num_bins = 500  # Define the number of bins you'd like to use\n",
    "\n",
    "# Initialize KBinsDiscretizer\n",
    "kbin = KBinsDiscretizer(n_bins=num_bins, encode='ordinal', strategy='uniform')\n",
    "kbin.fit(np.concatenate((X_train, X_test)))\n",
    "\n",
    "X_train_tokenized = kbin.transform(X_train)\n",
    "X_test_tokenized = kbin.transform(X_test)\n",
    "import torch\n",
    "import torch.nn as nn\n",
    "from transformers import BertModel, BertTokenizer\n",
    "from torch.utils.data import DataLoader, TensorDataset\n",
    "\n",
    "# Initialize a pre-trained BERT model and tokenizer\n",
    "model_name = 'bert-base-uncased'\n",
    "tokenizer = BertTokenizer.from_pretrained(model_name)\n",
    "bert_model = BertModel.from_pretrained(model_name)\n",
    "\n",
    "\n",
    "# Define a custom classifier model\n",
    "class ECGClassifier(nn.Module):\n",
    "    def __init__(self, num_classes):\n",
    "        super(ECGClassifier, self).__init__()\n",
    "        self.bert = bert_model\n",
    "        self.dropout = nn.Dropout(0.1)\n",
    "        self.fc = nn.Linear(768, num_classes)  # BERT hidden size is 768\n",
    "\n",
    "    def forward(self, input_ids, attention_mask):\n",
    "        _, pooled_output = self.bert(input_ids=input_ids, attention_mask=attention_mask)\n",
    "        pooled_output = self.dropout(pooled_output)\n",
    "        logits = self.fc(pooled_output)\n",
    "        return logits\n",
    "\n",
    "\n",
    "# Convert tokenized data to PyTorch tensors\n",
    "X_train_tokenized = torch.LongTensor(X_train_tokenized)\n",
    "X_test_tokenized = torch.LongTensor(X_test_tokenized)\n",
    "y_train = torch.LongTensor(y_train)\n",
    "y_test = torch.LongTensor(y_test)\n",
    "\n",
    "# Create DataLoader for training and testing data\n",
    "train_data = TensorDataset(X_train_tokenized, y_train)\n",
    "train_loader = DataLoader(train_data, batch_size=32, shuffle=True)\n",
    "test_data = TensorDataset(X_test_tokenized, y_test)\n",
    "test_loader = DataLoader(test_data, batch_size=32)\n",
    "\n",
    "# Initialize the model\n",
    "model = ECGClassifier(num_classes)\n",
    "\n",
    "# Define loss function and optimizer\n",
    "criterion = nn.CrossEntropyLoss()\n",
    "optimizer = torch.optim.AdamW(model.parameters(), lr=1e-5)\n",
    "\n",
    "# Training loop\n",
    "num_epochs = 10\n",
    "for epoch in range(num_epochs):\n",
    "    model.train()\n",
    "    total_loss = 0\n",
    "    for batch in train_loader:\n",
    "        input_ids, labels = batch\n",
    "        optimizer.zero_grad()\n",
    "        logits = model(input_ids, attention_mask=(input_ids != 0))  # Attention mask for BERT\n",
    "        loss = criterion(logits, labels)\n",
    "        loss.backward()\n",
    "        optimizer.step()\n",
    "        total_loss += loss.item()\n",
    "    avg_loss = total_loss / len(train_loader)\n",
    "    print(f\"Epoch {epoch + 1}/{num_epochs}, Loss: {avg_loss:.4f}\")\n",
    "\n",
    "# Evaluation\n",
    "model.eval()\n",
    "correct = 0\n",
    "total = 0\n",
    "with torch.no_grad():\n",
    "    for batch in test_loader:\n",
    "        input_ids, labels = batch\n",
    "        logits = model(input_ids, attention_mask=(input_ids != 0))\n",
    "        predicted = torch.argmax(logits, dim=1)\n",
    "        total += labels.size(0)\n",
    "        correct += (predicted == labels).sum().item()\n",
    "\n",
    "accuracy = correct / total\n",
    "print(f\"Test Accuracy: {accuracy:.2%}\")\n"
   ]
  },
  {
   "cell_type": "code",
   "execution_count": null,
   "outputs": [],
   "source": [],
   "metadata": {
    "collapsed": false
   },
   "id": "758749f16881b066"
  }
 ],
 "metadata": {
  "kernelspec": {
   "display_name": "Python 3",
   "language": "python",
   "name": "python3"
  },
  "language_info": {
   "codemirror_mode": {
    "name": "ipython",
    "version": 2
   },
   "file_extension": ".py",
   "mimetype": "text/x-python",
   "name": "python",
   "nbconvert_exporter": "python",
   "pygments_lexer": "ipython2",
   "version": "2.7.6"
  }
 },
 "nbformat": 4,
 "nbformat_minor": 5
}
