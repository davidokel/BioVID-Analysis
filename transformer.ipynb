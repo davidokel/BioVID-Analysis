{
 "cells": [
  {
   "cell_type": "markdown",
   "source": [
    "# Imports"
   ],
   "metadata": {
    "collapsed": false
   },
   "id": "983d470bcf669a5d"
  },
  {
   "cell_type": "code",
   "execution_count": 1,
   "outputs": [],
   "source": [
    "from sklearn.model_selection import train_test_split\n",
    "import numpy as np\n",
    "import matplotlib.pyplot as plt"
   ],
   "metadata": {
    "collapsed": false,
    "ExecuteTime": {
     "end_time": "2023-12-14T16:40:29.207441800Z",
     "start_time": "2023-12-14T16:40:28.665577600Z"
    }
   },
   "id": "2f610922111145f1"
  },
  {
   "cell_type": "code",
   "execution_count": 2,
   "outputs": [],
   "source": [
    "import importlib\n",
    "import data_loading\n",
    "import data_processing\n",
    "\n",
    "importlib.reload(data_loading)\n",
    "importlib.reload(data_processing)\n",
    "\n",
    "from data_loading import load_dataset, create_input_space, augment_data\n",
    "from data_processing import preprocess_signals, normalize_data"
   ],
   "metadata": {
    "collapsed": false,
    "ExecuteTime": {
     "end_time": "2023-12-14T16:40:29.471318500Z",
     "start_time": "2023-12-14T16:40:29.209950Z"
    }
   },
   "id": "986604e30a586c88"
  },
  {
   "cell_type": "code",
   "execution_count": 3,
   "outputs": [
    {
     "name": "stdout",
     "output_type": "stream",
     "text": [
      "8600\n",
      "2816\n"
     ]
    }
   ],
   "source": [
    "data = load_dataset(signal_names=['ecg', 'gsr'])\n",
    "print(len(data))\n",
    "print(len(data[0]['signals']['ecg']))"
   ],
   "metadata": {
    "collapsed": false,
    "ExecuteTime": {
     "end_time": "2023-12-14T16:42:25.092947800Z",
     "start_time": "2023-12-14T16:40:29.470317700Z"
    }
   },
   "id": "7fff42360f031577"
  },
  {
   "cell_type": "markdown",
   "source": [
    "# Preprocessing"
   ],
   "metadata": {
    "collapsed": false
   },
   "id": "b835ab60c01a73e8"
  },
  {
   "cell_type": "code",
   "execution_count": 4,
   "outputs": [
    {
     "name": "stdout",
     "output_type": "stream",
     "text": [
      "(8600, 1408, 2)\n",
      "(8600,)\n"
     ]
    }
   ],
   "source": [
    "data_filtered = preprocess_signals(data, 512, 256)\n",
    "X, y = create_input_space(data_filtered)"
   ],
   "metadata": {
    "collapsed": false,
    "ExecuteTime": {
     "end_time": "2023-12-14T16:42:31.374571200Z",
     "start_time": "2023-12-14T16:42:25.051916600Z"
    }
   },
   "id": "f642ad865688466d"
  },
  {
   "cell_type": "code",
   "execution_count": 5,
   "outputs": [
    {
     "name": "stdout",
     "output_type": "stream",
     "text": [
      "Signal 0: Global Max = 4718.812958166116, Global Min = -2272.420349595169\n",
      "Signal 1: Global Max = 18.741088911129566, Global Min = 0.5993188470456602\n"
     ]
    }
   ],
   "source": [
    "num_signals = X.shape[2]  # 5 signals\n",
    "\n",
    "for signal_idx in range(num_signals):\n",
    "    global_max = np.max(X[:, :, signal_idx])  # Global max for this signal across all samples\n",
    "    global_min = np.min(X[:, :, signal_idx])  # Global min for this signal across all samples\n",
    "\n",
    "    print(f\"Signal {signal_idx}: Global Max = {global_max}, Global Min = {global_min}\")"
   ],
   "metadata": {
    "collapsed": false,
    "ExecuteTime": {
     "end_time": "2023-12-14T16:42:31.659991800Z",
     "start_time": "2023-12-14T16:42:31.491250300Z"
    }
   },
   "id": "5885ad4a297a7a62"
  },
  {
   "cell_type": "code",
   "execution_count": 6,
   "outputs": [],
   "source": [
    "X = normalize_data(X)"
   ],
   "metadata": {
    "collapsed": false,
    "ExecuteTime": {
     "end_time": "2023-12-14T16:42:33.979089Z",
     "start_time": "2023-12-14T16:42:31.703199600Z"
    }
   },
   "id": "8329e10f2bf9c4a4"
  },
  {
   "cell_type": "code",
   "execution_count": 7,
   "outputs": [
    {
     "name": "stdout",
     "output_type": "stream",
     "text": [
      "Signal 0: Global Max = 1.0000000000000002, Global Min = 0.0\n",
      "Signal 1: Global Max = 1.0000000000000284, Global Min = 0.0\n"
     ]
    }
   ],
   "source": [
    "num_signals = X.shape[2]\n",
    "\n",
    "for signal_idx in range(num_signals):\n",
    "    global_max = np.max(X[:, :, signal_idx])  # Global max for this signal across all samples\n",
    "    global_min = np.min(X[:, :, signal_idx])  # Global min for this signal across all samples\n",
    "\n",
    "    print(f\"Signal {signal_idx}: Global Max = {global_max}, Global Min = {global_min}\")"
   ],
   "metadata": {
    "collapsed": false,
    "ExecuteTime": {
     "end_time": "2023-12-14T16:42:34.046456300Z",
     "start_time": "2023-12-14T16:42:33.981596100Z"
    }
   },
   "id": "8f6667f296eb4272"
  },
  {
   "cell_type": "code",
   "execution_count": 8,
   "outputs": [
    {
     "name": "stdout",
     "output_type": "stream",
     "text": [
      "(77400, 1152, 2)\n",
      "(77400,)\n"
     ]
    }
   ],
   "source": [
    "augmented_X, augmented_y = augment_data(X, y)"
   ],
   "metadata": {
    "collapsed": false,
    "ExecuteTime": {
     "end_time": "2023-12-14T16:42:34.255450800Z",
     "start_time": "2023-12-14T16:42:34.041452500Z"
    }
   },
   "id": "be224611f0ca6be"
  },
  {
   "cell_type": "code",
   "execution_count": 9,
   "outputs": [],
   "source": [
    "X_train, X_test, y_train, y_test = train_test_split(augmented_X, augmented_y, test_size=0.05, random_state=42)"
   ],
   "metadata": {
    "collapsed": false,
    "ExecuteTime": {
     "end_time": "2023-12-14T16:42:34.980997900Z",
     "start_time": "2023-12-14T16:42:34.252948300Z"
    }
   },
   "id": "26395c1c3d09264a"
  },
  {
   "cell_type": "code",
   "execution_count": 10,
   "outputs": [
    {
     "name": "stdout",
     "output_type": "stream",
     "text": [
      "(73530, 1152, 2)\n",
      "(3870, 1152, 2)\n"
     ]
    }
   ],
   "source": [
    "print(X_train.shape)\n",
    "print(X_test.shape)"
   ],
   "metadata": {
    "collapsed": false,
    "ExecuteTime": {
     "end_time": "2023-12-14T16:42:34.993566700Z",
     "start_time": "2023-12-14T16:42:34.983008500Z"
    }
   },
   "id": "3e8238527436b8ad"
  },
  {
   "cell_type": "markdown",
   "source": [
    "# Transformer"
   ],
   "metadata": {
    "collapsed": false
   },
   "id": "685e14502ef06014"
  },
  {
   "cell_type": "code",
   "execution_count": 11,
   "outputs": [
    {
     "name": "stdout",
     "output_type": "stream",
     "text": [
      "5\n"
     ]
    }
   ],
   "source": [
    "num_classes = len(np.unique(y_train))\n",
    "print(num_classes)"
   ],
   "metadata": {
    "collapsed": false,
    "ExecuteTime": {
     "end_time": "2023-12-14T16:42:35.001638600Z",
     "start_time": "2023-12-14T16:42:34.998088500Z"
    }
   },
   "id": "4a0afdaa6f1a03df"
  },
  {
   "cell_type": "code",
   "execution_count": 12,
   "outputs": [],
   "source": [
    "import torch\n",
    "import torch.nn as nn\n",
    "from torch.utils.data import Dataset, DataLoader\n",
    "from sklearn.model_selection import train_test_split\n",
    "from sklearn.preprocessing import KBinsDiscretizer"
   ],
   "metadata": {
    "collapsed": false,
    "ExecuteTime": {
     "end_time": "2023-12-14T16:42:35.809564100Z",
     "start_time": "2023-12-14T16:42:35.001119Z"
    }
   },
   "id": "9b5ec2d49ad2b754"
  },
  {
   "cell_type": "code",
   "execution_count": null,
   "outputs": [],
   "source": [
    "device = torch.device(\"cuda:0\" if torch.cuda.is_available() else \"cpu\")\n",
    "print(f\"Using device: {device}\")"
   ],
   "metadata": {
    "collapsed": false
   },
   "id": "dc72d9f4682f7014"
  },
  {
   "cell_type": "code",
   "execution_count": 13,
   "id": "initial_id",
   "metadata": {
    "collapsed": true,
    "ExecuteTime": {
     "end_time": "2023-12-14T16:42:37.979033800Z",
     "start_time": "2023-12-14T16:42:35.810566Z"
    }
   },
   "outputs": [],
   "source": [
    "# Quantization\n",
    "num_bins = 10  # Adjust as needed\n",
    "kbin = KBinsDiscretizer(n_bins=num_bins, encode='ordinal', strategy='uniform')\n",
    "kbin.fit(X_train.reshape(-1, 1))\n",
    "\n",
    "X_train_quantized = kbin.transform(X_train.reshape(-1, 1)).reshape(X_train.shape[0], X_train.shape[1], -1)\n",
    "\n",
    "# Dataset\n",
    "class TrainingDataset(Dataset):\n",
    "    def __init__(self, signals, labels):\n",
    "        self.signals = signals\n",
    "        self.labels = labels\n",
    "\n",
    "    def __len__(self):\n",
    "        return len(self.signals)\n",
    "\n",
    "    def __getitem__(self, idx):\n",
    "        return self.signals[idx], self.labels[idx]\n",
    "\n",
    "# DataLoader\n",
    "train_dataset = TrainingDataset(X_train_quantized, y_train)\n",
    "train_dataloader = DataLoader(train_dataset, batch_size=32, shuffle=True)"
   ]
  },
  {
   "cell_type": "code",
   "execution_count": 14,
   "outputs": [
    {
     "name": "stderr",
     "output_type": "stream",
     "text": [
      "/home/davidokel/miniconda3/lib/python3.11/site-packages/torch/nn/modules/transformer.py:282: UserWarning: enable_nested_tensor is True, but self.use_nested_tensor is False because encoder_layer.self_attn.batch_first was not True(use batch_first for better inference performance)\n",
      "  warnings.warn(f\"enable_nested_tensor is True, but self.use_nested_tensor is False because {why_not_sparsity_fast_path}\")\n"
     ]
    }
   ],
   "source": [
    "# Transformer Model (adapted for your task)\n",
    "class Transformer(nn.Module):\n",
    "    def __init__(self, num_tokens, d_model, nhead, num_classes, num_layers=2):\n",
    "        super(Transformer, self).__init__()\n",
    "        self.embedding = nn.Embedding(num_tokens, d_model)\n",
    "        encoder_layers = nn.TransformerEncoderLayer(d_model=d_model, nhead=nhead)\n",
    "        self.transformer_encoder = nn.TransformerEncoder(encoder_layers, num_layers=num_layers)\n",
    "        self.classifier = nn.Linear(d_model, num_classes)\n",
    "\n",
    "    def forward(self, src):\n",
    "        src = self.embedding(src.long()).mean(dim=2)  # Embed and average the two signals\n",
    "        src = src.permute(1, 0, 2)  # Reshape for transformer: [seq_len, batch_size, d_model]\n",
    "        out = self.transformer_encoder(src)\n",
    "        out = out.mean(dim=0)  # Pooling\n",
    "        return self.classifier(out)\n",
    "\n",
    "# Initialize Model\n",
    "model = Transformer(num_tokens=num_bins, d_model=64, nhead=4, num_classes=num_classes)"
   ],
   "metadata": {
    "collapsed": false,
    "ExecuteTime": {
     "end_time": "2023-12-14T16:42:38.063657200Z",
     "start_time": "2023-12-14T16:42:37.979033800Z"
    }
   },
   "id": "15b625de050cfb40"
  },
  {
   "cell_type": "code",
   "execution_count": 15,
   "outputs": [
    {
     "name": "stdout",
     "output_type": "stream",
     "text": [
      "Using device: cuda:0\n"
     ]
    }
   ],
   "source": [],
   "metadata": {
    "collapsed": false,
    "ExecuteTime": {
     "end_time": "2023-12-14T16:42:38.319885400Z",
     "start_time": "2023-12-14T16:42:38.312867300Z"
    }
   },
   "id": "f5226c95bda28f03"
  },
  {
   "cell_type": "code",
   "execution_count": 17,
   "outputs": [
    {
     "name": "stdout",
     "output_type": "stream",
     "text": [
      "[1, 100] loss: 0.969\n",
      "[1, 200] loss: 0.897\n",
      "[1, 300] loss: 0.919\n",
      "[1, 400] loss: 0.857\n",
      "[1, 500] loss: 0.892\n",
      "[1, 600] loss: 0.876\n",
      "[1, 700] loss: 0.880\n",
      "[1, 800] loss: 0.865\n",
      "[1, 900] loss: 0.882\n",
      "[1, 1000] loss: 0.864\n",
      "[1, 1100] loss: 0.870\n",
      "[1, 1200] loss: 0.880\n",
      "[1, 1300] loss: 0.877\n",
      "[1, 1400] loss: 0.900\n",
      "[1, 1500] loss: 0.899\n",
      "[1, 1600] loss: 0.882\n",
      "[1, 1700] loss: 0.860\n",
      "[1, 1800] loss: 0.874\n",
      "[1, 1900] loss: 0.861\n",
      "[1, 2000] loss: 0.871\n",
      "[1, 2100] loss: 0.895\n",
      "[1, 2200] loss: 0.872\n",
      "[2, 100] loss: 0.893\n",
      "[2, 200] loss: 0.886\n",
      "[2, 300] loss: 0.857\n",
      "[2, 400] loss: 0.870\n",
      "[2, 500] loss: 0.875\n",
      "[2, 600] loss: 0.873\n",
      "[2, 700] loss: 0.852\n",
      "[2, 800] loss: 0.883\n",
      "[2, 900] loss: 0.877\n",
      "[2, 1000] loss: 0.895\n",
      "[2, 1100] loss: 0.882\n",
      "[2, 1200] loss: 0.875\n",
      "[2, 1300] loss: 0.889\n",
      "[2, 1400] loss: 0.880\n",
      "[2, 1500] loss: 0.862\n",
      "[2, 1600] loss: 0.882\n",
      "[2, 1700] loss: 0.858\n",
      "[2, 1800] loss: 0.871\n",
      "[2, 1900] loss: 0.866\n",
      "[2, 2000] loss: 0.858\n",
      "[2, 2100] loss: 0.874\n",
      "[2, 2200] loss: 0.864\n",
      "[3, 100] loss: 0.884\n",
      "[3, 200] loss: 0.862\n",
      "[3, 300] loss: 0.872\n",
      "[3, 400] loss: 0.896\n",
      "[3, 500] loss: 0.881\n",
      "[3, 600] loss: 0.869\n",
      "[3, 700] loss: 0.878\n",
      "[3, 800] loss: 0.876\n",
      "[3, 900] loss: 0.857\n",
      "[3, 1000] loss: 0.858\n",
      "[3, 1100] loss: 0.868\n",
      "[3, 1200] loss: 0.876\n",
      "[3, 1300] loss: 0.854\n",
      "[3, 1400] loss: 0.897\n",
      "[3, 1500] loss: 0.883\n",
      "[3, 1600] loss: 0.876\n",
      "[3, 1700] loss: 0.846\n",
      "[3, 1800] loss: 0.865\n",
      "[3, 1900] loss: 0.882\n",
      "[3, 2000] loss: 0.867\n",
      "[3, 2100] loss: 0.876\n",
      "[3, 2200] loss: 0.881\n",
      "[4, 100] loss: 0.876\n",
      "[4, 200] loss: 0.864\n",
      "[4, 300] loss: 0.888\n",
      "[4, 400] loss: 0.876\n",
      "[4, 500] loss: 0.855\n",
      "[4, 600] loss: 0.864\n",
      "[4, 700] loss: 0.881\n",
      "[4, 800] loss: 0.878\n",
      "[4, 900] loss: 0.887\n",
      "[4, 1000] loss: 0.889\n",
      "[4, 1100] loss: 0.873\n",
      "[4, 1200] loss: 0.874\n",
      "[4, 1300] loss: 0.887\n",
      "[4, 1400] loss: 0.857\n",
      "[4, 1500] loss: 0.884\n",
      "[4, 1600] loss: 0.853\n",
      "[4, 1700] loss: 0.861\n",
      "[4, 1800] loss: 0.855\n",
      "[4, 1900] loss: 0.857\n",
      "[4, 2000] loss: 0.858\n",
      "[4, 2100] loss: 0.851\n",
      "[4, 2200] loss: 0.888\n",
      "[5, 100] loss: 0.875\n",
      "[5, 200] loss: 0.863\n",
      "[5, 300] loss: 0.879\n",
      "[5, 400] loss: 0.878\n",
      "[5, 500] loss: 0.887\n",
      "[5, 600] loss: 0.855\n",
      "[5, 700] loss: 0.867\n",
      "[5, 800] loss: 0.880\n",
      "[5, 900] loss: 0.840\n",
      "[5, 1000] loss: 0.888\n",
      "[5, 1100] loss: 0.891\n",
      "[5, 1200] loss: 0.887\n",
      "[5, 1300] loss: 0.866\n",
      "[5, 1400] loss: 0.860\n",
      "[5, 1500] loss: 0.830\n",
      "[5, 1600] loss: 0.878\n",
      "[5, 1700] loss: 0.841\n",
      "[5, 1800] loss: 0.879\n",
      "[5, 1900] loss: 0.867\n",
      "[5, 2000] loss: 0.876\n",
      "[5, 2100] loss: 0.880\n",
      "[5, 2200] loss: 0.880\n",
      "[6, 100] loss: 0.865\n",
      "[6, 200] loss: 0.864\n",
      "[6, 300] loss: 0.864\n",
      "[6, 400] loss: 0.878\n",
      "[6, 500] loss: 0.889\n",
      "[6, 600] loss: 0.880\n",
      "[6, 700] loss: 0.877\n",
      "[6, 800] loss: 0.895\n",
      "[6, 900] loss: 0.834\n",
      "[6, 1000] loss: 0.877\n",
      "[6, 1100] loss: 0.879\n",
      "[6, 1200] loss: 0.860\n",
      "[6, 1300] loss: 0.852\n",
      "[6, 1400] loss: 0.891\n",
      "[6, 1500] loss: 0.865\n",
      "[6, 1600] loss: 0.865\n",
      "[6, 1700] loss: 0.852\n",
      "[6, 1800] loss: 0.881\n",
      "[6, 1900] loss: 0.860\n",
      "[6, 2000] loss: 0.887\n",
      "[6, 2100] loss: 0.882\n",
      "[6, 2200] loss: 0.842\n",
      "[7, 100] loss: 0.877\n",
      "[7, 200] loss: 0.851\n",
      "[7, 300] loss: 0.869\n",
      "[7, 400] loss: 0.890\n",
      "[7, 500] loss: 0.874\n",
      "[7, 600] loss: 0.843\n",
      "[7, 700] loss: 0.867\n",
      "[7, 800] loss: 0.889\n",
      "[7, 900] loss: 0.877\n",
      "[7, 1000] loss: 0.871\n",
      "[7, 1100] loss: 0.872\n",
      "[7, 1200] loss: 0.847\n",
      "[7, 1300] loss: 0.859\n",
      "[7, 1400] loss: 0.902\n",
      "[7, 1500] loss: 0.869\n",
      "[7, 1600] loss: 0.851\n",
      "[7, 1700] loss: 0.863\n",
      "[7, 1800] loss: 0.873\n",
      "[7, 1900] loss: 0.876\n",
      "[7, 2000] loss: 0.900\n",
      "[7, 2100] loss: 0.873\n",
      "[7, 2200] loss: 0.862\n",
      "[8, 100] loss: 0.878\n",
      "[8, 200] loss: 0.857\n",
      "[8, 300] loss: 0.874\n",
      "[8, 400] loss: 0.882\n",
      "[8, 500] loss: 0.863\n",
      "[8, 600] loss: 0.895\n",
      "[8, 700] loss: 0.874\n",
      "[8, 800] loss: 0.858\n",
      "[8, 900] loss: 0.853\n",
      "[8, 1000] loss: 0.889\n",
      "[8, 1100] loss: 0.856\n",
      "[8, 1200] loss: 0.845\n",
      "[8, 1300] loss: 0.889\n",
      "[8, 1400] loss: 0.869\n",
      "[8, 1500] loss: 0.865\n",
      "[8, 1600] loss: 0.879\n",
      "[8, 1700] loss: 0.864\n",
      "[8, 1800] loss: 0.854\n",
      "[8, 1900] loss: 0.849\n",
      "[8, 2000] loss: 0.870\n",
      "[8, 2100] loss: 0.877\n",
      "[8, 2200] loss: 0.855\n",
      "[9, 100] loss: 0.861\n",
      "[9, 200] loss: 0.848\n",
      "[9, 300] loss: 0.874\n",
      "[9, 400] loss: 0.878\n",
      "[9, 500] loss: 0.855\n",
      "[9, 600] loss: 0.864\n",
      "[9, 700] loss: 0.868\n",
      "[9, 800] loss: 0.881\n",
      "[9, 900] loss: 0.836\n",
      "[9, 1000] loss: 0.876\n",
      "[9, 1100] loss: 0.881\n",
      "[9, 1200] loss: 0.863\n",
      "[9, 1300] loss: 0.864\n",
      "[9, 1400] loss: 0.895\n",
      "[9, 1500] loss: 0.868\n",
      "[9, 1600] loss: 0.862\n",
      "[9, 1700] loss: 0.863\n",
      "[9, 1800] loss: 0.878\n",
      "[9, 1900] loss: 0.858\n",
      "[9, 2000] loss: 0.865\n",
      "[9, 2100] loss: 0.871\n",
      "[9, 2200] loss: 0.876\n",
      "[10, 100] loss: 0.868\n",
      "[10, 200] loss: 0.889\n",
      "[10, 300] loss: 0.873\n",
      "[10, 400] loss: 0.873\n",
      "[10, 500] loss: 0.870\n",
      "[10, 600] loss: 0.868\n",
      "[10, 700] loss: 0.851\n",
      "[10, 800] loss: 0.889\n",
      "[10, 900] loss: 0.882\n",
      "[10, 1000] loss: 0.867\n",
      "[10, 1100] loss: 0.825\n",
      "[10, 1200] loss: 0.870\n",
      "[10, 1300] loss: 0.878\n",
      "[10, 1400] loss: 0.842\n",
      "[10, 1500] loss: 0.844\n",
      "[10, 1600] loss: 0.869\n",
      "[10, 1700] loss: 0.864\n",
      "[10, 1800] loss: 0.884\n",
      "[10, 1900] loss: 0.851\n",
      "[10, 2000] loss: 0.874\n",
      "[10, 2100] loss: 0.870\n",
      "[10, 2200] loss: 0.871\n",
      "[11, 100] loss: 0.861\n",
      "[11, 200] loss: 0.865\n",
      "[11, 300] loss: 0.887\n",
      "[11, 400] loss: 0.883\n",
      "[11, 500] loss: 0.862\n",
      "[11, 600] loss: 0.857\n",
      "[11, 700] loss: 0.828\n",
      "[11, 800] loss: 0.899\n",
      "[11, 900] loss: 0.854\n",
      "[11, 1000] loss: 0.870\n",
      "[11, 1100] loss: 0.870\n",
      "[11, 1200] loss: 0.861\n",
      "[11, 1300] loss: 0.857\n",
      "[11, 1400] loss: 0.864\n",
      "[11, 1500] loss: 0.855\n",
      "[11, 1600] loss: 0.864\n",
      "[11, 1700] loss: 0.873\n",
      "[11, 1800] loss: 0.881\n",
      "[11, 1900] loss: 0.867\n",
      "[11, 2000] loss: 0.869\n",
      "[11, 2100] loss: 0.866\n",
      "[11, 2200] loss: 0.863\n",
      "[12, 100] loss: 0.865\n",
      "[12, 200] loss: 0.851\n",
      "[12, 300] loss: 0.862\n",
      "[12, 400] loss: 0.873\n",
      "[12, 500] loss: 0.875\n",
      "[12, 600] loss: 0.884\n",
      "[12, 700] loss: 0.861\n",
      "[12, 800] loss: 0.834\n",
      "[12, 900] loss: 0.862\n",
      "[12, 1000] loss: 0.839\n",
      "[12, 1100] loss: 0.854\n",
      "[12, 1200] loss: 0.879\n",
      "[12, 1300] loss: 0.886\n",
      "[12, 1400] loss: 0.867\n",
      "[12, 1500] loss: 0.883\n",
      "[12, 1600] loss: 0.870\n",
      "[12, 1700] loss: 0.870\n",
      "[12, 1800] loss: 0.852\n",
      "[12, 1900] loss: 0.903\n",
      "[12, 2000] loss: 0.862\n",
      "[12, 2100] loss: 0.854\n",
      "[12, 2200] loss: 0.862\n",
      "[13, 100] loss: 0.868\n",
      "[13, 200] loss: 0.851\n",
      "[13, 300] loss: 0.868\n",
      "[13, 400] loss: 0.882\n",
      "[13, 500] loss: 0.860\n",
      "[13, 600] loss: 0.866\n",
      "[13, 700] loss: 0.848\n",
      "[13, 800] loss: 0.871\n",
      "[13, 900] loss: 0.867\n",
      "[13, 1000] loss: 0.856\n",
      "[13, 1100] loss: 0.848\n",
      "[13, 1200] loss: 0.832\n",
      "[13, 1300] loss: 0.873\n",
      "[13, 1400] loss: 0.900\n",
      "[13, 1500] loss: 0.879\n",
      "[13, 1600] loss: 0.867\n",
      "[13, 1700] loss: 0.866\n",
      "[13, 1800] loss: 0.881\n",
      "[13, 1900] loss: 0.881\n",
      "[13, 2000] loss: 0.862\n",
      "[13, 2100] loss: 0.864\n",
      "[13, 2200] loss: 0.873\n",
      "[14, 100] loss: 0.868\n",
      "[14, 200] loss: 0.859\n",
      "[14, 300] loss: 0.869\n",
      "[14, 400] loss: 0.882\n",
      "[14, 500] loss: 0.836\n",
      "[14, 600] loss: 0.897\n",
      "[14, 700] loss: 0.866\n",
      "[14, 800] loss: 0.861\n",
      "[14, 900] loss: 0.867\n",
      "[14, 1000] loss: 0.888\n",
      "[14, 1100] loss: 0.868\n",
      "[14, 1200] loss: 0.876\n",
      "[14, 1300] loss: 0.888\n",
      "[14, 1400] loss: 0.854\n",
      "[14, 1500] loss: 0.864\n",
      "[14, 1600] loss: 0.861\n",
      "[14, 1700] loss: 0.852\n",
      "[14, 1800] loss: 0.847\n",
      "[14, 1900] loss: 0.873\n",
      "[14, 2000] loss: 0.844\n",
      "[14, 2100] loss: 0.868\n",
      "[14, 2200] loss: 0.869\n",
      "[15, 100] loss: 0.851\n",
      "[15, 200] loss: 0.843\n",
      "[15, 300] loss: 0.850\n",
      "[15, 400] loss: 0.871\n",
      "[15, 500] loss: 0.825\n",
      "[15, 600] loss: 0.853\n",
      "[15, 700] loss: 0.862\n",
      "[15, 800] loss: 0.875\n",
      "[15, 900] loss: 0.884\n",
      "[15, 1000] loss: 0.867\n",
      "[15, 1100] loss: 0.892\n",
      "[15, 1200] loss: 0.852\n",
      "[15, 1300] loss: 0.860\n",
      "[15, 1400] loss: 0.876\n",
      "[15, 1500] loss: 0.875\n",
      "[15, 1600] loss: 0.887\n",
      "[15, 1700] loss: 0.855\n",
      "[15, 1800] loss: 0.875\n",
      "[15, 1900] loss: 0.857\n",
      "[15, 2000] loss: 0.881\n",
      "[15, 2100] loss: 0.886\n",
      "[15, 2200] loss: 0.842\n",
      "[16, 100] loss: 0.867\n",
      "[16, 200] loss: 0.855\n",
      "[16, 300] loss: 0.883\n",
      "[16, 400] loss: 0.871\n",
      "[16, 500] loss: 0.893\n",
      "[16, 600] loss: 0.865\n",
      "[16, 700] loss: 0.884\n",
      "[16, 800] loss: 0.864\n",
      "[16, 900] loss: 0.867\n",
      "[16, 1000] loss: 0.849\n",
      "[16, 1100] loss: 0.885\n",
      "[16, 1200] loss: 0.868\n",
      "[16, 1300] loss: 0.852\n",
      "[16, 1400] loss: 0.857\n",
      "[16, 1500] loss: 0.885\n",
      "[16, 1600] loss: 0.851\n",
      "[16, 1700] loss: 0.852\n",
      "[16, 1800] loss: 0.837\n",
      "[16, 1900] loss: 0.880\n",
      "[16, 2000] loss: 0.859\n",
      "[16, 2100] loss: 0.848\n",
      "[16, 2200] loss: 0.883\n",
      "[17, 100] loss: 0.867\n",
      "[17, 200] loss: 0.864\n",
      "[17, 300] loss: 0.874\n",
      "[17, 400] loss: 0.869\n",
      "[17, 500] loss: 0.845\n",
      "[17, 600] loss: 0.831\n",
      "[17, 700] loss: 0.875\n",
      "[17, 800] loss: 0.845\n",
      "[17, 900] loss: 0.860\n",
      "[17, 1000] loss: 0.874\n",
      "[17, 1100] loss: 0.884\n",
      "[17, 1200] loss: 0.859\n",
      "[17, 1300] loss: 0.892\n",
      "[17, 1400] loss: 0.884\n",
      "[17, 1500] loss: 0.860\n",
      "[17, 1600] loss: 0.858\n",
      "[17, 1700] loss: 0.891\n",
      "[17, 1800] loss: 0.845\n",
      "[17, 1900] loss: 0.862\n",
      "[17, 2000] loss: 0.860\n",
      "[17, 2100] loss: 0.879\n",
      "[17, 2200] loss: 0.880\n",
      "[18, 100] loss: 0.887\n",
      "[18, 200] loss: 0.857\n",
      "[18, 300] loss: 0.859\n",
      "[18, 400] loss: 0.848\n",
      "[18, 500] loss: 0.865\n",
      "[18, 600] loss: 0.868\n",
      "[18, 700] loss: 0.865\n",
      "[18, 800] loss: 0.866\n",
      "[18, 900] loss: 0.868\n",
      "[18, 1000] loss: 0.858\n",
      "[18, 1100] loss: 0.866\n",
      "[18, 1200] loss: 0.882\n",
      "[18, 1300] loss: 0.881\n",
      "[18, 1400] loss: 0.885\n",
      "[18, 1500] loss: 0.859\n",
      "[18, 1600] loss: 0.859\n",
      "[18, 1700] loss: 0.866\n",
      "[18, 1800] loss: 0.868\n",
      "[18, 1900] loss: 0.835\n",
      "[18, 2000] loss: 0.866\n",
      "[18, 2100] loss: 0.865\n",
      "[18, 2200] loss: 0.842\n",
      "[19, 100] loss: 0.860\n",
      "[19, 200] loss: 0.880\n",
      "[19, 300] loss: 0.848\n",
      "[19, 400] loss: 0.885\n",
      "[19, 500] loss: 0.865\n",
      "[19, 600] loss: 0.844\n",
      "[19, 700] loss: 0.839\n",
      "[19, 800] loss: 0.843\n",
      "[19, 900] loss: 0.844\n",
      "[19, 1000] loss: 0.862\n",
      "[19, 1100] loss: 0.875\n",
      "[19, 1200] loss: 0.873\n",
      "[19, 1300] loss: 0.856\n",
      "[19, 1400] loss: 0.878\n",
      "[19, 1500] loss: 0.878\n",
      "[19, 1600] loss: 0.843\n",
      "[19, 1700] loss: 0.897\n",
      "[19, 1800] loss: 0.878\n",
      "[19, 1900] loss: 0.864\n",
      "[19, 2000] loss: 0.856\n",
      "[19, 2100] loss: 0.868\n",
      "[19, 2200] loss: 0.859\n",
      "[20, 100] loss: 0.830\n",
      "[20, 200] loss: 0.889\n",
      "[20, 300] loss: 0.863\n",
      "[20, 400] loss: 0.868\n",
      "[20, 500] loss: 0.844\n",
      "[20, 600] loss: 0.848\n",
      "[20, 700] loss: 0.855\n",
      "[20, 800] loss: 0.870\n",
      "[20, 900] loss: 0.884\n",
      "[20, 1000] loss: 0.868\n",
      "[20, 1100] loss: 0.861\n",
      "[20, 1200] loss: 0.845\n",
      "[20, 1300] loss: 0.866\n",
      "[20, 1400] loss: 0.860\n",
      "[20, 1500] loss: 0.884\n",
      "[20, 1600] loss: 0.864\n",
      "[20, 1700] loss: 0.869\n",
      "[20, 1800] loss: 0.856\n",
      "[20, 1900] loss: 0.884\n",
      "[20, 2000] loss: 0.849\n",
      "[20, 2100] loss: 0.856\n",
      "[20, 2200] loss: 0.888\n",
      "[21, 100] loss: 0.863\n",
      "[21, 200] loss: 0.870\n",
      "[21, 300] loss: 0.871\n",
      "[21, 400] loss: 0.868\n",
      "[21, 500] loss: 0.836\n",
      "[21, 600] loss: 0.836\n",
      "[21, 700] loss: 0.874\n",
      "[21, 800] loss: 0.862\n",
      "[21, 900] loss: 0.855\n",
      "[21, 1000] loss: 0.883\n",
      "[21, 1100] loss: 0.871\n",
      "[21, 1200] loss: 0.867\n",
      "[21, 1300] loss: 0.881\n",
      "[21, 1400] loss: 0.859\n",
      "[21, 1500] loss: 0.889\n",
      "[21, 1600] loss: 0.861\n",
      "[21, 1700] loss: 0.862\n",
      "[21, 1800] loss: 0.859\n",
      "[21, 1900] loss: 0.864\n",
      "[21, 2000] loss: 0.854\n",
      "[21, 2100] loss: 0.830\n",
      "[21, 2200] loss: 0.853\n",
      "[22, 100] loss: 0.849\n",
      "[22, 200] loss: 0.877\n",
      "[22, 300] loss: 0.835\n",
      "[22, 400] loss: 0.854\n",
      "[22, 500] loss: 0.861\n",
      "[22, 600] loss: 0.845\n",
      "[22, 700] loss: 0.868\n",
      "[22, 800] loss: 0.897\n",
      "[22, 900] loss: 0.877\n",
      "[22, 1000] loss: 0.853\n",
      "[22, 1100] loss: 0.875\n",
      "[22, 1200] loss: 0.867\n",
      "[22, 1300] loss: 0.846\n",
      "[22, 1400] loss: 0.855\n",
      "[22, 1500] loss: 0.877\n",
      "[22, 1600] loss: 0.860\n",
      "[22, 1700] loss: 0.873\n",
      "[22, 1800] loss: 0.850\n",
      "[22, 1900] loss: 0.864\n",
      "[22, 2000] loss: 0.865\n",
      "[22, 2100] loss: 0.865\n",
      "[22, 2200] loss: 0.862\n",
      "[23, 100] loss: 0.868\n",
      "[23, 200] loss: 0.856\n",
      "[23, 300] loss: 0.860\n",
      "[23, 400] loss: 0.853\n",
      "[23, 500] loss: 0.852\n",
      "[23, 600] loss: 0.845\n",
      "[23, 700] loss: 0.870\n",
      "[23, 800] loss: 0.857\n",
      "[23, 900] loss: 0.861\n",
      "[23, 1000] loss: 0.858\n",
      "[23, 1100] loss: 0.864\n",
      "[23, 1200] loss: 0.880\n",
      "[23, 1300] loss: 0.878\n",
      "[23, 1400] loss: 0.842\n",
      "[23, 1500] loss: 0.870\n",
      "[23, 1600] loss: 0.867\n",
      "[23, 1700] loss: 0.863\n",
      "[23, 1800] loss: 0.864\n",
      "[23, 1900] loss: 0.869\n",
      "[23, 2000] loss: 0.877\n",
      "[23, 2100] loss: 0.878\n",
      "[23, 2200] loss: 0.864\n",
      "[24, 100] loss: 0.875\n",
      "[24, 200] loss: 0.863\n",
      "[24, 300] loss: 0.847\n",
      "[24, 400] loss: 0.885\n",
      "[24, 500] loss: 0.855\n",
      "[24, 600] loss: 0.864\n",
      "[24, 700] loss: 0.851\n",
      "[24, 800] loss: 0.843\n",
      "[24, 900] loss: 0.865\n",
      "[24, 1000] loss: 0.843\n",
      "[24, 1100] loss: 0.854\n",
      "[24, 1200] loss: 0.883\n",
      "[24, 1300] loss: 0.864\n",
      "[24, 1400] loss: 0.861\n",
      "[24, 1500] loss: 0.875\n",
      "[24, 1600] loss: 0.865\n",
      "[24, 1700] loss: 0.869\n",
      "[24, 1800] loss: 0.874\n",
      "[24, 1900] loss: 0.863\n",
      "[24, 2000] loss: 0.882\n",
      "[24, 2100] loss: 0.846\n",
      "[24, 2200] loss: 0.844\n",
      "[25, 100] loss: 0.880\n",
      "[25, 200] loss: 0.850\n",
      "[25, 300] loss: 0.864\n",
      "[25, 400] loss: 0.857\n",
      "[25, 500] loss: 0.868\n",
      "[25, 600] loss: 0.863\n",
      "[25, 700] loss: 0.893\n",
      "[25, 800] loss: 0.864\n",
      "[25, 900] loss: 0.844\n",
      "[25, 1000] loss: 0.867\n",
      "[25, 1100] loss: 0.874\n",
      "[25, 1200] loss: 0.848\n",
      "[25, 1300] loss: 0.827\n",
      "[25, 1400] loss: 0.844\n",
      "[25, 1500] loss: 0.856\n",
      "[25, 1600] loss: 0.851\n",
      "[25, 1700] loss: 0.856\n",
      "[25, 1800] loss: 0.864\n",
      "[25, 1900] loss: 0.862\n",
      "[25, 2000] loss: 0.874\n",
      "[25, 2100] loss: 0.864\n",
      "[25, 2200] loss: 0.886\n"
     ]
    }
   ],
   "source": [
    "# Loss and Optimizer\n",
    "criterion = nn.CrossEntropyLoss()\n",
    "optimizer = torch.optim.Adam(model.parameters(), lr=0.001)\n",
    "model.to(device)\n",
    "\n",
    "def train_model(model, criterion, optimizer, dataloader, num_epochs=25):\n",
    "    for epoch in range(num_epochs):\n",
    "        running_loss = 0.0\n",
    "        for i, (inputs, labels) in enumerate(dataloader, 0):\n",
    "            inputs, labels = inputs.to(device), labels.to(device)\n",
    "\n",
    "            optimizer.zero_grad()\n",
    "\n",
    "            outputs = model(inputs)\n",
    "            loss = criterion(outputs, labels)\n",
    "            loss.backward()\n",
    "            optimizer.step()\n",
    "\n",
    "            running_loss += loss.item()\n",
    "            if i % 100 == 99:  # Print every 100 mini-batches\n",
    "                print(f'[{epoch + 1}, {i + 1}] loss: {running_loss / 100:.3f}')\n",
    "                running_loss = 0.0\n",
    "\n",
    "train_model(model, criterion, optimizer, train_dataloader, num_epochs=25)"
   ],
   "metadata": {
    "collapsed": false,
    "ExecuteTime": {
     "end_time": "2023-12-14T18:28:14.577612100Z",
     "start_time": "2023-12-14T16:45:28.462562700Z"
    }
   },
   "id": "758749f16881b066"
  },
  {
   "cell_type": "code",
   "execution_count": null,
   "outputs": [],
   "source": [],
   "metadata": {
    "collapsed": false,
    "ExecuteTime": {
     "end_time": "2023-12-14T16:42:39.682310500Z",
     "start_time": "2023-12-14T16:42:39.676800300Z"
    }
   },
   "id": "67a59f58694e395e"
  }
 ],
 "metadata": {
  "kernelspec": {
   "display_name": "Python 3",
   "language": "python",
   "name": "python3"
  },
  "language_info": {
   "codemirror_mode": {
    "name": "ipython",
    "version": 2
   },
   "file_extension": ".py",
   "mimetype": "text/x-python",
   "name": "python",
   "nbconvert_exporter": "python",
   "pygments_lexer": "ipython2",
   "version": "2.7.6"
  }
 },
 "nbformat": 4,
 "nbformat_minor": 5
}
