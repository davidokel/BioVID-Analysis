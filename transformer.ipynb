{
 "cells": [
  {
   "cell_type": "markdown",
   "source": [
    "# Imports"
   ],
   "metadata": {
    "collapsed": false
   },
   "id": "983d470bcf669a5d"
  },
  {
   "cell_type": "code",
   "execution_count": 1,
   "outputs": [],
   "source": [
    "from pipeline import loading_pipeline\n",
    "import numpy as np\n",
    "import torch\n",
    "import torch.nn as nn\n",
    "from torch.utils.data import Dataset, DataLoader\n",
    "from sklearn.preprocessing import KBinsDiscretizer\n",
    "\n",
    "from model_training import PyTorchModel, evaluate_regression_model, evaluate_classification_model\n",
    "import transformers"
   ],
   "metadata": {
    "collapsed": false,
    "ExecuteTime": {
     "end_time": "2023-12-19T11:44:27.918193300Z",
     "start_time": "2023-12-19T11:44:24.715075100Z"
    }
   },
   "id": "7a2ea5346e1da7fc"
  },
  {
   "cell_type": "markdown",
   "source": [
    "# Preprocessing"
   ],
   "metadata": {
    "collapsed": false
   },
   "id": "b835ab60c01a73e8"
  },
  {
   "cell_type": "code",
   "execution_count": 2,
   "outputs": [
    {
     "name": "stdout",
     "output_type": "stream",
     "text": [
      "Number of samples: 8600\n",
      "Signal Length: 2816\n",
      "X-Shape: (8100, 1408, 2)\n",
      "y-Shape: (8100,)\n",
      "X-Shape: (500, 1408, 2)\n",
      "y-Shape: (500,)\n",
      "Augmented X.shape: (72900, 1152, 2)\n",
      "Augmented y.shape: (72900,)\n"
     ]
    }
   ],
   "source": [
    "X_train, y_train, X_test, y_test = loading_pipeline()"
   ],
   "metadata": {
    "collapsed": false,
    "ExecuteTime": {
     "end_time": "2023-12-19T11:46:52.103231400Z",
     "start_time": "2023-12-19T11:44:27.918193300Z"
    }
   },
   "id": "26395c1c3d09264a"
  },
  {
   "cell_type": "markdown",
   "source": [
    "# Transformer"
   ],
   "metadata": {
    "collapsed": false
   },
   "id": "685e14502ef06014"
  },
  {
   "cell_type": "code",
   "execution_count": 3,
   "outputs": [
    {
     "name": "stdout",
     "output_type": "stream",
     "text": [
      "5\n"
     ]
    }
   ],
   "source": [
    "num_classes = len(np.unique(y_train))\n",
    "print(num_classes)"
   ],
   "metadata": {
    "collapsed": false,
    "ExecuteTime": {
     "end_time": "2023-12-19T11:46:52.103231400Z",
     "start_time": "2023-12-19T11:46:52.098221100Z"
    }
   },
   "id": "4a0afdaa6f1a03df"
  },
  {
   "cell_type": "code",
   "execution_count": 4,
   "outputs": [
    {
     "name": "stdout",
     "output_type": "stream",
     "text": [
      "Using device: cuda:0\n"
     ]
    }
   ],
   "source": [
    "device = torch.device(\"cuda:0\" if torch.cuda.is_available() else \"cpu\")\n",
    "print(f\"Using device: {device}\")\n",
    "\n",
    "# Quantization\n",
    "num_bins = 10  # Adjust as needed\n",
    "kbin = KBinsDiscretizer(n_bins=num_bins, encode='ordinal', strategy='uniform')\n",
    "kbin.fit(X_train.reshape(-1, 1))\n",
    "\n",
    "X_train_quantized = kbin.transform(X_train.reshape(-1, 1)).reshape(X_train.shape[0], X_train.shape[1], -1)\n",
    "\n",
    "\n",
    "# Dataset\n",
    "class TrainingDataset(Dataset):\n",
    "    def __init__(self, signals, labels):\n",
    "        self.signals = signals\n",
    "        self.labels = labels\n",
    "\n",
    "    def __len__(self):\n",
    "        return len(self.signals)\n",
    "\n",
    "    def __getitem__(self, idx):\n",
    "        return self.signals[idx], self.labels[idx]\n",
    "\n",
    "\n",
    "# DataLoader\n",
    "train_dataset = TrainingDataset(X_train_quantized, y_train)\n",
    "train_dataloader = DataLoader(train_dataset, batch_size=32, shuffle=True)"
   ],
   "metadata": {
    "collapsed": false,
    "ExecuteTime": {
     "end_time": "2023-12-19T11:46:53.950185300Z",
     "start_time": "2023-12-19T11:46:52.104231200Z"
    }
   },
   "id": "93a26e1bc1f6f86a"
  },
  {
   "cell_type": "code",
   "execution_count": 5,
   "outputs": [],
   "source": [
    "# Transformer Model (adapted for your task)\n",
    "class Transformer(nn.Module):\n",
    "    def __init__(self, num_tokens, d_model, nhead, num_classes, num_layers=2):\n",
    "        super(Transformer, self).__init__()\n",
    "        self.embedding = nn.Embedding(num_tokens, d_model)\n",
    "        encoder_layers = nn.TransformerEncoderLayer(d_model=d_model, nhead=nhead)\n",
    "        self.transformer_encoder = nn.TransformerEncoder(encoder_layers, num_layers=num_layers)\n",
    "        self.classifier = nn.Linear(d_model, num_classes)\n",
    "\n",
    "    def forward(self, src):\n",
    "        src = self.embedding(src.long()).mean(dim=2)  # Embed and average the two signals\n",
    "        src = src.permute(1, 0, 2)  # Reshape for transformer: [seq_len, batch_size, d_model]\n",
    "        out = self.transformer_encoder(src)\n",
    "        out = out.mean(dim=0)  # Pooling\n",
    "        return self.classifier(out)"
   ],
   "metadata": {
    "collapsed": false,
    "ExecuteTime": {
     "end_time": "2023-12-19T11:46:53.956185200Z",
     "start_time": "2023-12-19T11:46:53.950185300Z"
    }
   },
   "id": "6825308f5ef96e7d"
  },
  {
   "cell_type": "code",
   "execution_count": 6,
   "outputs": [
    {
     "name": "stderr",
     "output_type": "stream",
     "text": [
      "/home/davidokel/miniconda3/envs/ml_env/lib/python3.11/site-packages/torch/nn/modules/transformer.py:282: UserWarning: enable_nested_tensor is True, but self.use_nested_tensor is False because encoder_layer.self_attn.batch_first was not True(use batch_first for better inference performance)\n",
      "  warnings.warn(f\"enable_nested_tensor is True, but self.use_nested_tensor is False because {why_not_sparsity_fast_path}\")\n"
     ]
    }
   ],
   "source": [
    "# Initialize the model\n",
    "transformer_model = Transformer(num_tokens=num_bins, d_model=64, nhead=4, num_classes=num_classes)\n",
    "\n",
    "# Loss and Optimizer\n",
    "criterion = nn.CrossEntropyLoss()\n",
    "optimizer = torch.optim.Adam(transformer_model.parameters(), lr=0.001)\n",
    "\n",
    "# PyTorchModel Wrapper\n",
    "model = PyTorchModel(transformer_model, criterion, optimizer, device)"
   ],
   "metadata": {
    "collapsed": false,
    "ExecuteTime": {
     "end_time": "2023-12-19T11:46:54.275373300Z",
     "start_time": "2023-12-19T11:46:53.952187200Z"
    }
   },
   "id": "67a59f58694e395e"
  },
  {
   "cell_type": "code",
   "execution_count": 7,
   "outputs": [
    {
     "name": "stdout",
     "output_type": "stream",
     "text": [
      "Epoch [1/25], Train Loss: 1.0427, Val Loss: 1.0354\n",
      "Epoch [2/25], Train Loss: 1.0317, Val Loss: 1.0346\n",
      "Epoch [3/25], Train Loss: 1.0314, Val Loss: 1.0365\n",
      "Epoch [4/25], Train Loss: 1.0309, Val Loss: 1.0357\n",
      "Epoch [5/25], Train Loss: 1.0307, Val Loss: 1.0359\n",
      "Early stopping triggered\n",
      "Accuracy: 0.204\n",
      "Precision: 0.09771080846131557\n",
      "Recall: 0.204\n",
      "F1-Score: 0.07493026114639643\n"
     ]
    },
    {
     "name": "stderr",
     "output_type": "stream",
     "text": [
      "/home/davidokel/miniconda3/envs/ml_env/lib/python3.11/site-packages/sklearn/metrics/_classification.py:1344: UndefinedMetricWarning: Precision is ill-defined and being set to 0.0 in labels with no predicted samples. Use `zero_division` parameter to control this behavior.\n",
      "  _warn_prf(average, modifier, msg_start, len(result))\n"
     ]
    },
    {
     "data": {
      "text/plain": "<Figure size 640x480 with 2 Axes>",
      "image/png": "[encoded data removed]"
     },
     "metadata": {},
     "output_type": "display_data"
    },
    {
     "name": "stdout",
     "output_type": "stream",
     "text": [
      "\n",
      "Classification Report:\n",
      "\n",
      "              precision    recall  f1-score   support\n",
      "\n",
      "           0       0.29      0.02      0.04       100\n",
      "           1       0.20      1.00      0.34       100\n",
      "           2       0.00      0.00      0.00       100\n",
      "           3       0.00      0.00      0.00       100\n",
      "           4       0.00      0.00      0.00       100\n",
      "\n",
      "    accuracy                           0.20       500\n",
      "   macro avg       0.10      0.20      0.07       500\n",
      "weighted avg       0.10      0.20      0.07       500\n"
     ]
    },
    {
     "name": "stderr",
     "output_type": "stream",
     "text": [
      "/home/davidokel/miniconda3/envs/ml_env/lib/python3.11/site-packages/sklearn/metrics/_classification.py:1344: UndefinedMetricWarning: Precision and F-score are ill-defined and being set to 0.0 in labels with no predicted samples. Use `zero_division` parameter to control this behavior.\n",
      "  _warn_prf(average, modifier, msg_start, len(result))\n",
      "/home/davidokel/miniconda3/envs/ml_env/lib/python3.11/site-packages/sklearn/metrics/_classification.py:1344: UndefinedMetricWarning: Precision and F-score are ill-defined and being set to 0.0 in labels with no predicted samples. Use `zero_division` parameter to control this behavior.\n",
      "  _warn_prf(average, modifier, msg_start, len(result))\n",
      "/home/davidokel/miniconda3/envs/ml_env/lib/python3.11/site-packages/sklearn/metrics/_classification.py:1344: UndefinedMetricWarning: Precision and F-score are ill-defined and being set to 0.0 in labels with no predicted samples. Use `zero_division` parameter to control this behavior.\n",
      "  _warn_prf(average, modifier, msg_start, len(result))\n"
     ]
    }
   ],
   "source": [
    "evaluate_classification_model(model, X_train, y_train, X_test, y_test)"
   ],
   "metadata": {
    "collapsed": false,
    "ExecuteTime": {
     "end_time": "2023-12-19T11:58:13.181788100Z",
     "start_time": "2023-12-19T11:46:54.274374900Z"
    }
   },
   "id": "ce99e412cc36c10d"
  },
  {
   "cell_type": "code",
   "execution_count": 8,
   "outputs": [],
   "source": [
    "#todo LOOCV based on candidate-id, select all samples from X number of candidates (men and women balanced maybe)\n",
    "#todo use currently done test set as validation set\n",
    "#todo integrate validation set performance metrics into training"
   ],
   "metadata": {
    "collapsed": false,
    "ExecuteTime": {
     "end_time": "2023-12-19T11:58:13.183788400Z",
     "start_time": "2023-12-19T11:58:13.181788100Z"
    }
   },
   "id": "f363dacd6c9f9658"
  }
 ],
 "metadata": {
  "kernelspec": {
   "display_name": "Python 3",
   "language": "python",
   "name": "python3"
  },
  "language_info": {
   "codemirror_mode": {
    "name": "ipython",
    "version": 2
   },
   "file_extension": ".py",
   "mimetype": "text/x-python",
   "name": "python",
   "nbconvert_exporter": "python",
   "pygments_lexer": "ipython2",
   "version": "2.7.6"
  }
 },
 "nbformat": 4,
 "nbformat_minor": 5
}
