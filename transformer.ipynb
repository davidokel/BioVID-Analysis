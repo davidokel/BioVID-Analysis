{
 "cells": [
  {
   "cell_type": "markdown",
   "source": [
    "# Imports"
   ],
   "metadata": {
    "collapsed": false
   },
   "id": "983d470bcf669a5d"
  },
  {
   "cell_type": "code",
   "execution_count": 1,
   "outputs": [],
   "source": [
    "from pipeline import loading_pipeline\n",
    "import numpy as np\n",
    "import torch\n",
    "import torch.nn as nn\n",
    "from torch.utils.data import Dataset, DataLoader\n",
    "import torch.nn.functional as F\n",
    "from sklearn.preprocessing import KBinsDiscretizer\n",
    "\n",
    "from model_training import PyTorchModel, evaluate_regression_model, evaluate_classification_model\n",
    "import transformers"
   ],
   "metadata": {
    "collapsed": false,
    "ExecuteTime": {
     "end_time": "2023-12-20T11:25:50.108217300Z",
     "start_time": "2023-12-20T11:25:48.610724200Z"
    }
   },
   "id": "7a2ea5346e1da7fc"
  },
  {
   "cell_type": "markdown",
   "source": [
    "# Preprocessing"
   ],
   "metadata": {
    "collapsed": false
   },
   "id": "b835ab60c01a73e8"
  },
  {
   "cell_type": "code",
   "execution_count": 2,
   "outputs": [
    {
     "name": "stdout",
     "output_type": "stream",
     "text": [
      "Number of samples: 8600\n",
      "Signal Length: 2816\n",
      "X-Shape: (8100, 1408, 2)\n",
      "y-Shape: (8100,)\n",
      "X-Shape: (500, 1408, 2)\n",
      "y-Shape: (500,)\n",
      "Augmented X.shape: (40500, 1152, 2)\n",
      "Augmented y.shape: (40500,)\n",
      "Trimmed X.shape: (500, 1152, 2)\n"
     ]
    }
   ],
   "source": [
    "X_train, y_train, X_test, y_test = loading_pipeline()"
   ],
   "metadata": {
    "collapsed": false,
    "ExecuteTime": {
     "end_time": "2023-12-20T11:26:32.542229700Z",
     "start_time": "2023-12-20T11:25:50.111216900Z"
    }
   },
   "id": "26395c1c3d09264a"
  },
  {
   "cell_type": "code",
   "execution_count": 3,
   "outputs": [
    {
     "data": {
      "text/plain": "((16200, 1152, 2), (16200,), (200, 1152, 2), (200,))"
     },
     "execution_count": 3,
     "metadata": {},
     "output_type": "execute_result"
    }
   ],
   "source": [
    "def filter_labels(X, y, labels_to_keep):\n",
    "    # Find indices where label is either 0 or 4\n",
    "    indices_to_keep = np.isin(y, labels_to_keep)\n",
    "    # Keep only the samples with the desired labels\n",
    "    X_filtered = X[indices_to_keep]\n",
    "    y_filtered = y[indices_to_keep]\n",
    "    return X_filtered, y_filtered\n",
    "\n",
    "# Specify the labels to keep\n",
    "labels_to_keep = [0, 4]\n",
    "\n",
    "# Filter the training and test sets\n",
    "X_train, y_train = filter_labels(X_train, y_train, labels_to_keep)\n",
    "X_test, y_test = filter_labels(X_test, y_test, labels_to_keep)\n",
    "\n",
    "y_train = (y_train == 4).astype(int)\n",
    "y_test = (y_test == 4).astype(int)\n",
    "\n",
    "# Show the shapes of the filtered datasets\n",
    "X_train.shape, y_train.shape, X_test.shape, y_test.shape"
   ],
   "metadata": {
    "collapsed": false,
    "ExecuteTime": {
     "end_time": "2023-12-20T11:26:32.607863400Z",
     "start_time": "2023-12-20T11:26:32.541230800Z"
    }
   },
   "id": "efd46495b627d9be"
  },
  {
   "cell_type": "markdown",
   "source": [
    "# Transformer"
   ],
   "metadata": {
    "collapsed": false
   },
   "id": "685e14502ef06014"
  },
  {
   "cell_type": "code",
   "execution_count": 4,
   "outputs": [
    {
     "name": "stdout",
     "output_type": "stream",
     "text": [
      "2\n"
     ]
    }
   ],
   "source": [
    "num_classes = len(np.unique(y_train))\n",
    "print(num_classes)"
   ],
   "metadata": {
    "collapsed": false,
    "ExecuteTime": {
     "end_time": "2023-12-20T11:26:32.607863400Z",
     "start_time": "2023-12-20T11:26:32.605347300Z"
    }
   },
   "id": "4a0afdaa6f1a03df"
  },
  {
   "cell_type": "code",
   "execution_count": 5,
   "outputs": [
    {
     "name": "stdout",
     "output_type": "stream",
     "text": [
      "Using device: cuda:0\n"
     ]
    }
   ],
   "source": [
    "device = torch.device(\"cuda:0\" if torch.cuda.is_available() else \"cpu\")\n",
    "print(f\"Using device: {device}\")\n",
    "\n",
    "# # Quantization\n",
    "# num_bins = 75  # Adjust as needed\n",
    "# kbin = KBinsDiscretizer(n_bins=num_bins, encode='ordinal', strategy='uniform')\n",
    "# kbin.fit(X_train.reshape(-1, 1))\n",
    "# \n",
    "# X_train_quantized = kbin.transform(X_train.reshape(-1, 1)).reshape(X_train.shape[0], X_train.shape[1], -1)\n",
    "# X_test_quantised = kbin.transform(X_test.reshape(-1, 1)).reshape(X_test.shape[0], X_test.shape[1], -1)"
   ],
   "metadata": {
    "collapsed": false,
    "ExecuteTime": {
     "end_time": "2023-12-20T11:26:32.812288700Z",
     "start_time": "2023-12-20T11:26:32.609107Z"
    }
   },
   "id": "93a26e1bc1f6f86a"
  },
  {
   "cell_type": "code",
   "execution_count": 6,
   "outputs": [],
   "source": [
    "class AttentionPool(nn.Module):\n",
    "    def __init__(self, d_model):\n",
    "        super().__init__()\n",
    "        self.query = nn.Parameter(torch.randn(d_model))\n",
    "\n",
    "    def forward(self, x):\n",
    "        attn_weights = F.softmax(torch.matmul(x, self.query), dim=1)\n",
    "        pooled = torch.matmul(attn_weights.unsqueeze(1), x).squeeze(1)\n",
    "        return pooled, attn_weights\n",
    "\n",
    "class TransformerModel(nn.Module):\n",
    "    def __init__(self, input_dim, d_model, nhead, num_classes, num_layers, seq_len):\n",
    "        super().__init__()\n",
    "        self.d_model = d_model\n",
    "        self.input_projection = nn.Linear(input_dim, d_model)\n",
    "        self.positional_encoding = nn.Parameter(torch.randn(1, seq_len, d_model))\n",
    "        encoder_layer = nn.TransformerEncoderLayer(d_model=d_model, nhead=nhead, dropout=0.1)\n",
    "        self.transformer_encoder = nn.TransformerEncoder(encoder_layer, num_layers=num_layers)\n",
    "        self.attention_pool = AttentionPool(d_model)\n",
    "        self.fc = nn.Linear(d_model, num_classes)\n",
    "\n",
    "    def forward(self, src):\n",
    "        # Project input features to d_model dimensions and apply positional encoding\n",
    "        src = self.input_projection(src) * torch.sqrt(torch.tensor(self.d_model, dtype=src.dtype))\n",
    "        src += self.positional_encoding[:, :src.size(1), :]\n",
    "        src = src.permute(1, 0, 2)  # [seq_len, batch_size, features]\n",
    "        transformer_output = self.transformer_encoder(src)\n",
    "        transformer_output = transformer_output.permute(1, 0, 2)  # [batch_size, seq_len, features]\n",
    "        pooled, _ = self.attention_pool(transformer_output)\n",
    "        output = self.fc(pooled)\n",
    "        return output"
   ],
   "metadata": {
    "collapsed": false,
    "ExecuteTime": {
     "end_time": "2023-12-20T11:26:32.822295200Z",
     "start_time": "2023-12-20T11:26:32.812288700Z"
    }
   },
   "id": "6825308f5ef96e7d"
  },
  {
   "cell_type": "code",
   "execution_count": 7,
   "outputs": [
    {
     "name": "stderr",
     "output_type": "stream",
     "text": [
      "/home/davidokel/miniconda3/envs/ml_env/lib/python3.11/site-packages/torch/nn/modules/transformer.py:282: UserWarning: enable_nested_tensor is True, but self.use_nested_tensor is False because encoder_layer.self_attn.batch_first was not True(use batch_first for better inference performance)\n",
      "  warnings.warn(f\"enable_nested_tensor is True, but self.use_nested_tensor is False because {why_not_sparsity_fast_path}\")\n"
     ]
    }
   ],
   "source": [
    "# Initialize the model with the correct input dimensions\n",
    "input_dim = X_train.shape[2]  # Number of features per timestep in the signal\n",
    "seq_len = X_train.shape[1]  # Sequence length\n",
    "d_model = 128  # Size of the feature space to project the inputs\n",
    "nhead = 4  # Number of attention heads\n",
    "num_layers = 2  # Number of transformer layers\n",
    "transformer_model = TransformerModel(input_dim, d_model, nhead, num_classes, num_layers, seq_len)\n",
    "\n",
    "\n",
    "# Assuming you have defined 'device' (e.g., torch.device(\"cuda:0\"))\n",
    "# Define the loss function and optimizer\n",
    "criterion = nn.CrossEntropyLoss()\n",
    "optimizer = torch.optim.Adam(transformer_model.parameters(), lr=0.001)\n",
    "\n",
    "# Wrap the model in the PyTorchModel class\n",
    "model = PyTorchModel(transformer_model, criterion, optimizer, device)"
   ],
   "metadata": {
    "collapsed": false,
    "ExecuteTime": {
     "end_time": "2023-12-20T11:26:33.068324100Z",
     "start_time": "2023-12-20T11:26:32.822295200Z"
    }
   },
   "id": "67a59f58694e395e"
  },
  {
   "cell_type": "code",
   "execution_count": 8,
   "outputs": [
    {
     "name": "stdout",
     "output_type": "stream",
     "text": [
      "Epoch [1/25], Train Loss: 0.6345, Val Loss: 0.6514\n",
      "Epoch [2/25], Train Loss: 0.5922, Val Loss: 0.6059\n",
      "Epoch [3/25], Train Loss: 0.5892, Val Loss: 0.6026\n",
      "Epoch [4/25], Train Loss: 0.5885, Val Loss: 0.6023\n",
      "Epoch [5/25], Train Loss: 0.5862, Val Loss: 0.6058\n",
      "Epoch [6/25], Train Loss: 0.5852, Val Loss: 0.5925\n",
      "Epoch [7/25], Train Loss: 0.5815, Val Loss: 0.6020\n",
      "Epoch [8/25], Train Loss: 0.5824, Val Loss: 0.6023\n",
      "Epoch [9/25], Train Loss: 0.5787, Val Loss: 0.5884\n",
      "Epoch [10/25], Train Loss: 0.5794, Val Loss: 0.6145\n",
      "Epoch [11/25], Train Loss: 0.5840, Val Loss: 0.6200\n",
      "Epoch [12/25], Train Loss: 0.5796, Val Loss: 0.6015\n",
      "Epoch [13/25], Train Loss: 0.5837, Val Loss: 0.6087\n",
      "Epoch [14/25], Train Loss: 0.5753, Val Loss: 0.6159\n",
      "Early stopping triggered\n",
      "Accuracy: 0.75\n",
      "Precision: 0.751610305958132\n",
      "Recall: 0.75\n",
      "F1-Score: 0.7495993589743588\n",
      "ROC-AUC: 0.75\n"
     ]
    },
    {
     "data": {
      "text/plain": "<Figure size 640x480 with 2 Axes>",
      "image/png": "[encoded data removed]"
     },
     "metadata": {},
     "output_type": "display_data"
    },
    {
     "name": "stdout",
     "output_type": "stream",
     "text": [
      "\n",
      "Classification Report:\n",
      "\n",
      "              precision    recall  f1-score   support\n",
      "\n",
      "           0       0.73      0.79      0.76       100\n",
      "           1       0.77      0.71      0.74       100\n",
      "\n",
      "    accuracy                           0.75       200\n",
      "   macro avg       0.75      0.75      0.75       200\n",
      "weighted avg       0.75      0.75      0.75       200\n"
     ]
    }
   ],
   "source": [
    "evaluate_classification_model(model, X_train, y_train, X_test, y_test)"
   ],
   "metadata": {
    "collapsed": false,
    "ExecuteTime": {
     "end_time": "2023-12-20T11:34:37.882639800Z",
     "start_time": "2023-12-20T11:26:33.068324100Z"
    }
   },
   "id": "ce99e412cc36c10d"
  },
  {
   "cell_type": "code",
   "execution_count": 9,
   "outputs": [],
   "source": [
    "#todo LOOCV based on candidate-id, select all samples from X number of candidates (men and women balanced maybe)\n",
    "#todo use currently done test set as validation set\n",
    "#todo integrate validation set performance metrics into training"
   ],
   "metadata": {
    "collapsed": false,
    "ExecuteTime": {
     "end_time": "2023-12-20T11:34:37.882639800Z",
     "start_time": "2023-12-20T11:34:37.880682700Z"
    }
   },
   "id": "f363dacd6c9f9658"
  }
 ],
 "metadata": {
  "kernelspec": {
   "display_name": "Python 3",
   "language": "python",
   "name": "python3"
  },
  "language_info": {
   "codemirror_mode": {
    "name": "ipython",
    "version": 2
   },
   "file_extension": ".py",
   "mimetype": "text/x-python",
   "name": "python",
   "nbconvert_exporter": "python",
   "pygments_lexer": "ipython2",
   "version": "2.7.6"
  }
 },
 "nbformat": 4,
 "nbformat_minor": 5
}
