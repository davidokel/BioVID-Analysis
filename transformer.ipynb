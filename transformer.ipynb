{
 "cells": [
  {
   "cell_type": "markdown",
   "source": [
    "# Imports"
   ],
   "metadata": {
    "collapsed": false
   },
   "id": "983d470bcf669a5d"
  },
  {
   "cell_type": "code",
   "execution_count": 1,
   "outputs": [],
   "source": [
    "from sklearn.model_selection import train_test_split\n",
    "import numpy as np\n",
    "import matplotlib.pyplot as plt"
   ],
   "metadata": {
    "collapsed": false,
    "ExecuteTime": {
     "end_time": "2023-12-18T12:24:36.138604400Z",
     "start_time": "2023-12-18T12:24:35.601896800Z"
    }
   },
   "id": "2f610922111145f1"
  },
  {
   "cell_type": "code",
   "execution_count": 2,
   "outputs": [],
   "source": [
    "import importlib\n",
    "import data_loading\n",
    "import data_processing\n",
    "\n",
    "importlib.reload(data_loading)\n",
    "importlib.reload(data_processing)\n",
    "\n",
    "from data_loading import load_dataset, create_input_space, augment_data\n",
    "from data_processing import preprocess_signals, normalize_data"
   ],
   "metadata": {
    "collapsed": false,
    "ExecuteTime": {
     "end_time": "2023-12-18T12:24:36.495919500Z",
     "start_time": "2023-12-18T12:24:36.138604400Z"
    }
   },
   "id": "986604e30a586c88"
  },
  {
   "cell_type": "code",
   "execution_count": 3,
   "outputs": [
    {
     "name": "stdout",
     "output_type": "stream",
     "text": [
      "8600\n",
      "2816\n"
     ]
    }
   ],
   "source": [
    "data = load_dataset(signal_names=['ecg', 'gsr'])\n",
    "print(len(data))\n",
    "print(len(data[0]['signals']['ecg']))"
   ],
   "metadata": {
    "collapsed": false,
    "ExecuteTime": {
     "end_time": "2023-12-18T12:26:35.446329600Z",
     "start_time": "2023-12-18T12:24:36.495919500Z"
    }
   },
   "id": "7fff42360f031577"
  },
  {
   "cell_type": "markdown",
   "source": [
    "# Preprocessing"
   ],
   "metadata": {
    "collapsed": false
   },
   "id": "b835ab60c01a73e8"
  },
  {
   "cell_type": "code",
   "execution_count": 4,
   "outputs": [
    {
     "name": "stdout",
     "output_type": "stream",
     "text": [
      "(8600, 1408, 2)\n",
      "(8600,)\n"
     ]
    }
   ],
   "source": [
    "data_filtered = preprocess_signals(data, 512, 256)\n",
    "X, y = create_input_space(data_filtered)"
   ],
   "metadata": {
    "collapsed": false,
    "ExecuteTime": {
     "end_time": "2023-12-18T12:26:41.694352300Z",
     "start_time": "2023-12-18T12:26:35.443329700Z"
    }
   },
   "id": "f642ad865688466d"
  },
  {
   "cell_type": "code",
   "execution_count": 5,
   "outputs": [
    {
     "name": "stdout",
     "output_type": "stream",
     "text": [
      "Signal 0: Global Max = 4718.812958166116, Global Min = -2272.420349595169\n",
      "Signal 1: Global Max = 18.741088911129566, Global Min = 0.5993188470456602\n"
     ]
    }
   ],
   "source": [
    "num_signals = X.shape[2]  # 5 signals\n",
    "\n",
    "for signal_idx in range(num_signals):\n",
    "    global_max = np.max(X[:, :, signal_idx])  # Global max for this signal across all samples\n",
    "    global_min = np.min(X[:, :, signal_idx])  # Global min for this signal across all samples\n",
    "\n",
    "    print(f\"Signal {signal_idx}: Global Max = {global_max}, Global Min = {global_min}\")"
   ],
   "metadata": {
    "collapsed": false,
    "ExecuteTime": {
     "end_time": "2023-12-18T12:26:41.956179100Z",
     "start_time": "2023-12-18T12:26:41.721389600Z"
    }
   },
   "id": "5885ad4a297a7a62"
  },
  {
   "cell_type": "code",
   "execution_count": 6,
   "outputs": [],
   "source": [
    "X = normalize_data(X)"
   ],
   "metadata": {
    "collapsed": false,
    "ExecuteTime": {
     "end_time": "2023-12-18T12:26:44.148813400Z",
     "start_time": "2023-12-18T12:26:41.994814300Z"
    }
   },
   "id": "8329e10f2bf9c4a4"
  },
  {
   "cell_type": "code",
   "execution_count": 7,
   "outputs": [
    {
     "name": "stdout",
     "output_type": "stream",
     "text": [
      "Signal 0: Global Max = 1.0000000000000002, Global Min = 0.0\n",
      "Signal 1: Global Max = 1.0000000000000284, Global Min = 0.0\n"
     ]
    }
   ],
   "source": [
    "num_signals = X.shape[2]\n",
    "\n",
    "for signal_idx in range(num_signals):\n",
    "    global_max = np.max(X[:, :, signal_idx])  # Global max for this signal across all samples\n",
    "    global_min = np.min(X[:, :, signal_idx])  # Global min for this signal across all samples\n",
    "\n",
    "    print(f\"Signal {signal_idx}: Global Max = {global_max}, Global Min = {global_min}\")"
   ],
   "metadata": {
    "collapsed": false,
    "ExecuteTime": {
     "end_time": "2023-12-18T12:26:44.208437500Z",
     "start_time": "2023-12-18T12:26:44.150827500Z"
    }
   },
   "id": "8f6667f296eb4272"
  },
  {
   "cell_type": "code",
   "execution_count": 8,
   "outputs": [
    {
     "name": "stdout",
     "output_type": "stream",
     "text": [
      "(77400, 1152, 2)\n",
      "(77400,)\n"
     ]
    }
   ],
   "source": [
    "augmented_X, augmented_y = augment_data(X, y)"
   ],
   "metadata": {
    "collapsed": false,
    "ExecuteTime": {
     "end_time": "2023-12-18T12:26:44.340098Z",
     "start_time": "2023-12-18T12:26:44.204421100Z"
    }
   },
   "id": "be224611f0ca6be"
  },
  {
   "cell_type": "code",
   "execution_count": 9,
   "outputs": [],
   "source": [
    "X_train, X_test, y_train, y_test = train_test_split(augmented_X, augmented_y, test_size=0.05, random_state=42)"
   ],
   "metadata": {
    "collapsed": false,
    "ExecuteTime": {
     "end_time": "2023-12-18T12:26:44.879825900Z",
     "start_time": "2023-12-18T12:26:44.339093500Z"
    }
   },
   "id": "26395c1c3d09264a"
  },
  {
   "cell_type": "code",
   "execution_count": 10,
   "outputs": [
    {
     "name": "stdout",
     "output_type": "stream",
     "text": [
      "(73530, 1152, 2)\n",
      "(3870, 1152, 2)\n"
     ]
    }
   ],
   "source": [
    "print(X_train.shape)\n",
    "print(X_test.shape)"
   ],
   "metadata": {
    "collapsed": false,
    "ExecuteTime": {
     "end_time": "2023-12-18T12:26:44.885881500Z",
     "start_time": "2023-12-18T12:26:44.881827400Z"
    }
   },
   "id": "3e8238527436b8ad"
  },
  {
   "cell_type": "markdown",
   "source": [
    "# Transformer"
   ],
   "metadata": {
    "collapsed": false
   },
   "id": "685e14502ef06014"
  },
  {
   "cell_type": "code",
   "execution_count": 11,
   "outputs": [
    {
     "name": "stdout",
     "output_type": "stream",
     "text": [
      "5\n"
     ]
    }
   ],
   "source": [
    "num_classes = len(np.unique(y_train))\n",
    "print(num_classes)"
   ],
   "metadata": {
    "collapsed": false,
    "ExecuteTime": {
     "end_time": "2023-12-18T12:26:44.897133600Z",
     "start_time": "2023-12-18T12:26:44.892880800Z"
    }
   },
   "id": "4a0afdaa6f1a03df"
  },
  {
   "cell_type": "code",
   "execution_count": 12,
   "outputs": [],
   "source": [
    "import torch\n",
    "import torch.nn as nn\n",
    "from torch.utils.data import Dataset, DataLoader\n",
    "from sklearn.model_selection import train_test_split\n",
    "from sklearn.preprocessing import KBinsDiscretizer\n",
    "\n",
    "from model_training import PyTorchModel, evaluate_regression_model, evaluate_classification_model\n",
    "import transformers"
   ],
   "metadata": {
    "collapsed": false,
    "ExecuteTime": {
     "end_time": "2023-12-18T12:26:45.862223Z",
     "start_time": "2023-12-18T12:26:44.895133400Z"
    }
   },
   "id": "9b5ec2d49ad2b754"
  },
  {
   "cell_type": "code",
   "execution_count": 13,
   "outputs": [
    {
     "name": "stdout",
     "output_type": "stream",
     "text": [
      "Using device: cuda:0\n"
     ]
    }
   ],
   "source": [
    "device = torch.device(\"cuda:0\" if torch.cuda.is_available() else \"cpu\")\n",
    "print(f\"Using device: {device}\")\n",
    "\n",
    "# Quantization\n",
    "num_bins = 10  # Adjust as needed\n",
    "kbin = KBinsDiscretizer(n_bins=num_bins, encode='ordinal', strategy='uniform')\n",
    "kbin.fit(X_train.reshape(-1, 1))\n",
    "\n",
    "X_train_quantized = kbin.transform(X_train.reshape(-1, 1)).reshape(X_train.shape[0], X_train.shape[1], -1)\n",
    "\n",
    "\n",
    "# Dataset\n",
    "class TrainingDataset(Dataset):\n",
    "    def __init__(self, signals, labels):\n",
    "        self.signals = signals\n",
    "        self.labels = labels\n",
    "\n",
    "    def __len__(self):\n",
    "        return len(self.signals)\n",
    "\n",
    "    def __getitem__(self, idx):\n",
    "        return self.signals[idx], self.labels[idx]\n",
    "\n",
    "\n",
    "# DataLoader\n",
    "train_dataset = TrainingDataset(X_train_quantized, y_train)\n",
    "train_dataloader = DataLoader(train_dataset, batch_size=32, shuffle=True)"
   ],
   "metadata": {
    "collapsed": false,
    "ExecuteTime": {
     "end_time": "2023-12-18T12:26:47.897126700Z",
     "start_time": "2023-12-18T12:26:46.080365Z"
    }
   },
   "id": "93a26e1bc1f6f86a"
  },
  {
   "cell_type": "code",
   "execution_count": 14,
   "outputs": [],
   "source": [
    "# Transformer Model (adapted for your task)\n",
    "class Transformer(nn.Module):\n",
    "    def __init__(self, num_tokens, d_model, nhead, num_classes, num_layers=2):\n",
    "        super(Transformer, self).__init__()\n",
    "        self.embedding = nn.Embedding(num_tokens, d_model)\n",
    "        encoder_layers = nn.TransformerEncoderLayer(d_model=d_model, nhead=nhead)\n",
    "        self.transformer_encoder = nn.TransformerEncoder(encoder_layers, num_layers=num_layers)\n",
    "        self.classifier = nn.Linear(d_model, num_classes)\n",
    "\n",
    "    def forward(self, src):\n",
    "        src = self.embedding(src.long()).mean(dim=2)  # Embed and average the two signals\n",
    "        src = src.permute(1, 0, 2)  # Reshape for transformer: [seq_len, batch_size, d_model]\n",
    "        out = self.transformer_encoder(src)\n",
    "        out = out.mean(dim=0)  # Pooling\n",
    "        return self.classifier(out)"
   ],
   "metadata": {
    "collapsed": false,
    "ExecuteTime": {
     "end_time": "2023-12-18T12:26:47.902124100Z",
     "start_time": "2023-12-18T12:26:47.899127500Z"
    }
   },
   "id": "6825308f5ef96e7d"
  },
  {
   "cell_type": "code",
   "execution_count": 15,
   "outputs": [
    {
     "name": "stderr",
     "output_type": "stream",
     "text": [
      "/home/davidokel/miniconda3/envs/ml_env/lib/python3.11/site-packages/torch/nn/modules/transformer.py:282: UserWarning: enable_nested_tensor is True, but self.use_nested_tensor is False because encoder_layer.self_attn.batch_first was not True(use batch_first for better inference performance)\n",
      "  warnings.warn(f\"enable_nested_tensor is True, but self.use_nested_tensor is False because {why_not_sparsity_fast_path}\")\n"
     ]
    },
    {
     "name": "stdout",
     "output_type": "stream",
     "text": [
      "[1, 100] loss: 0.964\n",
      "[1, 200] loss: 0.896\n",
      "[1, 300] loss: 0.873\n",
      "[1, 400] loss: 0.893\n",
      "[1, 500] loss: 0.906\n",
      "[1, 600] loss: 0.883\n",
      "[1, 700] loss: 0.878\n",
      "[1, 800] loss: 0.867\n",
      "[1, 900] loss: 0.893\n",
      "[1, 1000] loss: 0.878\n",
      "[1, 1100] loss: 0.881\n",
      "[1, 1200] loss: 0.871\n",
      "[1, 1300] loss: 0.858\n",
      "[1, 1400] loss: 0.871\n",
      "[1, 1500] loss: 0.872\n",
      "[1, 1600] loss: 0.875\n",
      "[1, 1700] loss: 0.871\n",
      "[1, 1800] loss: 0.893\n",
      "[1, 1900] loss: 0.866\n",
      "[1, 2000] loss: 0.885\n",
      "[1, 2100] loss: 0.866\n",
      "[1, 2200] loss: 0.862\n",
      "[2, 100] loss: 0.878\n",
      "[2, 200] loss: 0.900\n",
      "[2, 300] loss: 0.861\n",
      "[2, 400] loss: 0.901\n",
      "[2, 500] loss: 0.879\n",
      "[2, 600] loss: 0.869\n",
      "[2, 700] loss: 0.872\n",
      "[2, 800] loss: 0.878\n",
      "[2, 900] loss: 0.878\n",
      "[2, 1000] loss: 0.856\n",
      "[2, 1100] loss: 0.862\n",
      "[2, 1200] loss: 0.857\n",
      "[2, 1300] loss: 0.884\n",
      "[2, 1400] loss: 0.863\n",
      "[2, 1500] loss: 0.866\n",
      "[2, 1600] loss: 0.879\n",
      "[2, 1700] loss: 0.865\n",
      "[2, 1800] loss: 0.861\n",
      "[2, 1900] loss: 0.887\n",
      "[2, 2000] loss: 0.890\n",
      "[2, 2100] loss: 0.862\n",
      "[2, 2200] loss: 0.898\n",
      "[3, 100] loss: 0.894\n",
      "[3, 200] loss: 0.861\n",
      "[3, 300] loss: 0.867\n",
      "[3, 400] loss: 0.855\n",
      "[3, 500] loss: 0.873\n",
      "[3, 600] loss: 0.883\n",
      "[3, 700] loss: 0.885\n",
      "[3, 800] loss: 0.844\n",
      "[3, 900] loss: 0.863\n",
      "[3, 1000] loss: 0.889\n",
      "[3, 1100] loss: 0.861\n",
      "[3, 1200] loss: 0.865\n",
      "[3, 1300] loss: 0.861\n",
      "[3, 1400] loss: 0.897\n",
      "[3, 1500] loss: 0.882\n",
      "[3, 1600] loss: 0.859\n",
      "[3, 1700] loss: 0.885\n",
      "[3, 1800] loss: 0.887\n",
      "[3, 1900] loss: 0.871\n",
      "[3, 2000] loss: 0.912\n",
      "[3, 2100] loss: 0.857\n",
      "[3, 2200] loss: 0.871\n",
      "[4, 100] loss: 0.871\n",
      "[4, 200] loss: 0.870\n",
      "[4, 300] loss: 0.856\n",
      "[4, 400] loss: 0.894\n",
      "[4, 500] loss: 0.859\n",
      "[4, 600] loss: 0.869\n",
      "[4, 700] loss: 0.848\n",
      "[4, 800] loss: 0.873\n",
      "[4, 900] loss: 0.862\n",
      "[4, 1000] loss: 0.902\n",
      "[4, 1100] loss: 0.876\n",
      "[4, 1200] loss: 0.866\n",
      "[4, 1300] loss: 0.871\n",
      "[4, 1400] loss: 0.881\n",
      "[4, 1500] loss: 0.887\n",
      "[4, 1600] loss: 0.851\n",
      "[4, 1700] loss: 0.886\n",
      "[4, 1800] loss: 0.879\n",
      "[4, 1900] loss: 0.866\n",
      "[4, 2000] loss: 0.853\n",
      "[4, 2100] loss: 0.885\n",
      "[4, 2200] loss: 0.875\n",
      "[5, 100] loss: 0.907\n",
      "[5, 200] loss: 0.861\n",
      "[5, 300] loss: 0.868\n",
      "[5, 400] loss: 0.862\n",
      "[5, 500] loss: 0.849\n",
      "[5, 600] loss: 0.876\n",
      "[5, 700] loss: 0.854\n",
      "[5, 800] loss: 0.882\n",
      "[5, 900] loss: 0.871\n",
      "[5, 1000] loss: 0.902\n",
      "[5, 1100] loss: 0.907\n",
      "[5, 1200] loss: 0.897\n",
      "[5, 1300] loss: 0.871\n",
      "[5, 1400] loss: 0.867\n",
      "[5, 1500] loss: 0.873\n",
      "[5, 1600] loss: 0.860\n",
      "[5, 1700] loss: 0.860\n",
      "[5, 1800] loss: 0.874\n",
      "[5, 1900] loss: 0.854\n",
      "[5, 2000] loss: 0.842\n",
      "[5, 2100] loss: 0.847\n",
      "[5, 2200] loss: 0.874\n",
      "[6, 100] loss: 0.881\n",
      "[6, 200] loss: 0.854\n",
      "[6, 300] loss: 0.878\n",
      "[6, 400] loss: 0.853\n",
      "[6, 500] loss: 0.867\n",
      "[6, 600] loss: 0.874\n",
      "[6, 700] loss: 0.873\n",
      "[6, 800] loss: 0.866\n",
      "[6, 900] loss: 0.857\n",
      "[6, 1000] loss: 0.868\n",
      "[6, 1100] loss: 0.885\n",
      "[6, 1200] loss: 0.861\n",
      "[6, 1300] loss: 0.891\n",
      "[6, 1400] loss: 0.872\n",
      "[6, 1500] loss: 0.854\n",
      "[6, 1600] loss: 0.862\n",
      "[6, 1700] loss: 0.869\n",
      "[6, 1800] loss: 0.895\n",
      "[6, 1900] loss: 0.859\n",
      "[6, 2000] loss: 0.894\n",
      "[6, 2100] loss: 0.844\n",
      "[6, 2200] loss: 0.870\n",
      "[7, 100] loss: 0.885\n",
      "[7, 200] loss: 0.876\n",
      "[7, 300] loss: 0.880\n",
      "[7, 400] loss: 0.865\n",
      "[7, 500] loss: 0.858\n",
      "[7, 600] loss: 0.850\n",
      "[7, 700] loss: 0.864\n",
      "[7, 800] loss: 0.856\n",
      "[7, 900] loss: 0.896\n",
      "[7, 1000] loss: 0.878\n",
      "[7, 1100] loss: 0.846\n",
      "[7, 1200] loss: 0.873\n",
      "[7, 1300] loss: 0.861\n",
      "[7, 1400] loss: 0.887\n",
      "[7, 1500] loss: 0.885\n",
      "[7, 1600] loss: 0.867\n",
      "[7, 1700] loss: 0.885\n",
      "[7, 1800] loss: 0.854\n",
      "[7, 1900] loss: 0.867\n",
      "[7, 2000] loss: 0.871\n",
      "[7, 2100] loss: 0.866\n",
      "[7, 2200] loss: 0.860\n",
      "[8, 100] loss: 0.864\n",
      "[8, 200] loss: 0.871\n",
      "[8, 300] loss: 0.901\n",
      "[8, 400] loss: 0.851\n",
      "[8, 500] loss: 0.871\n",
      "[8, 600] loss: 0.867\n",
      "[8, 700] loss: 0.868\n",
      "[8, 800] loss: 0.885\n",
      "[8, 900] loss: 0.845\n",
      "[8, 1000] loss: 0.874\n",
      "[8, 1100] loss: 0.861\n",
      "[8, 1200] loss: 0.860\n",
      "[8, 1300] loss: 0.876\n",
      "[8, 1400] loss: 0.857\n",
      "[8, 1500] loss: 0.888\n",
      "[8, 1600] loss: 0.884\n",
      "[8, 1700] loss: 0.876\n",
      "[8, 1800] loss: 0.857\n",
      "[8, 1900] loss: 0.860\n",
      "[8, 2000] loss: 0.886\n",
      "[8, 2100] loss: 0.854\n",
      "[8, 2200] loss: 0.857\n",
      "[9, 100] loss: 0.878\n",
      "[9, 200] loss: 0.869\n",
      "[9, 300] loss: 0.860\n",
      "[9, 400] loss: 0.904\n",
      "[9, 500] loss: 0.878\n",
      "[9, 600] loss: 0.893\n",
      "[9, 700] loss: 0.857\n",
      "[9, 800] loss: 0.867\n",
      "[9, 900] loss: 0.863\n",
      "[9, 1000] loss: 0.843\n",
      "[9, 1100] loss: 0.862\n",
      "[9, 1200] loss: 0.863\n",
      "[9, 1300] loss: 0.845\n",
      "[9, 1400] loss: 0.882\n",
      "[9, 1500] loss: 0.866\n",
      "[9, 1600] loss: 0.849\n",
      "[9, 1700] loss: 0.866\n",
      "[9, 1800] loss: 0.867\n",
      "[9, 1900] loss: 0.855\n",
      "[9, 2000] loss: 0.895\n",
      "[9, 2100] loss: 0.857\n",
      "[9, 2200] loss: 0.872\n",
      "[10, 100] loss: 0.895\n",
      "[10, 200] loss: 0.869\n",
      "[10, 300] loss: 0.878\n",
      "[10, 400] loss: 0.866\n",
      "[10, 500] loss: 0.869\n",
      "[10, 600] loss: 0.861\n",
      "[10, 700] loss: 0.857\n",
      "[10, 800] loss: 0.874\n",
      "[10, 900] loss: 0.879\n",
      "[10, 1000] loss: 0.869\n",
      "[10, 1100] loss: 0.856\n",
      "[10, 1200] loss: 0.870\n",
      "[10, 1300] loss: 0.865\n",
      "[10, 1400] loss: 0.842\n",
      "[10, 1500] loss: 0.874\n",
      "[10, 1600] loss: 0.868\n",
      "[10, 1700] loss: 0.869\n",
      "[10, 1800] loss: 0.871\n",
      "[10, 1900] loss: 0.860\n",
      "[10, 2000] loss: 0.864\n",
      "[10, 2100] loss: 0.856\n",
      "[10, 2200] loss: 0.890\n",
      "[11, 100] loss: 0.879\n",
      "[11, 200] loss: 0.872\n",
      "[11, 300] loss: 0.841\n",
      "[11, 400] loss: 0.887\n",
      "[11, 500] loss: 0.858\n",
      "[11, 600] loss: 0.889\n",
      "[11, 700] loss: 0.891\n",
      "[11, 800] loss: 0.851\n",
      "[11, 900] loss: 0.873\n",
      "[11, 1000] loss: 0.873\n",
      "[11, 1100] loss: 0.882\n",
      "[11, 1200] loss: 0.873\n",
      "[11, 1300] loss: 0.858\n",
      "[11, 1400] loss: 0.875\n",
      "[11, 1500] loss: 0.870\n",
      "[11, 1600] loss: 0.843\n",
      "[11, 1700] loss: 0.880\n",
      "[11, 1800] loss: 0.869\n",
      "[11, 1900] loss: 0.883\n",
      "[11, 2000] loss: 0.834\n",
      "[11, 2100] loss: 0.870\n",
      "[11, 2200] loss: 0.851\n",
      "[12, 100] loss: 0.849\n",
      "[12, 200] loss: 0.868\n",
      "[12, 300] loss: 0.859\n",
      "[12, 400] loss: 0.894\n",
      "[12, 500] loss: 0.846\n",
      "[12, 600] loss: 0.863\n",
      "[12, 700] loss: 0.875\n",
      "[12, 800] loss: 0.862\n",
      "[12, 900] loss: 0.854\n",
      "[12, 1000] loss: 0.868\n",
      "[12, 1100] loss: 0.870\n",
      "[12, 1200] loss: 0.871\n",
      "[12, 1300] loss: 0.859\n",
      "[12, 1400] loss: 0.871\n",
      "[12, 1500] loss: 0.852\n",
      "[12, 1600] loss: 0.881\n",
      "[12, 1700] loss: 0.872\n",
      "[12, 1800] loss: 0.875\n",
      "[12, 1900] loss: 0.882\n",
      "[12, 2000] loss: 0.862\n",
      "[12, 2100] loss: 0.894\n",
      "[12, 2200] loss: 0.876\n",
      "[13, 100] loss: 0.859\n",
      "[13, 200] loss: 0.875\n",
      "[13, 300] loss: 0.872\n",
      "[13, 400] loss: 0.880\n",
      "[13, 500] loss: 0.857\n",
      "[13, 600] loss: 0.861\n",
      "[13, 700] loss: 0.855\n",
      "[13, 800] loss: 0.879\n",
      "[13, 900] loss: 0.873\n",
      "[13, 1000] loss: 0.869\n",
      "[13, 1100] loss: 0.869\n",
      "[13, 1200] loss: 0.870\n",
      "[13, 1300] loss: 0.886\n",
      "[13, 1400] loss: 0.881\n",
      "[13, 1500] loss: 0.865\n",
      "[13, 1600] loss: 0.851\n",
      "[13, 1700] loss: 0.863\n",
      "[13, 1800] loss: 0.864\n",
      "[13, 1900] loss: 0.876\n",
      "[13, 2000] loss: 0.855\n",
      "[13, 2100] loss: 0.853\n",
      "[13, 2200] loss: 0.870\n",
      "[14, 100] loss: 0.853\n",
      "[14, 200] loss: 0.871\n",
      "[14, 300] loss: 0.863\n",
      "[14, 400] loss: 0.846\n",
      "[14, 500] loss: 0.873\n",
      "[14, 600] loss: 0.868\n",
      "[14, 700] loss: 0.859\n",
      "[14, 800] loss: 0.870\n",
      "[14, 900] loss: 0.891\n",
      "[14, 1000] loss: 0.853\n",
      "[14, 1100] loss: 0.867\n",
      "[14, 1200] loss: 0.879\n",
      "[14, 1300] loss: 0.864\n",
      "[14, 1400] loss: 0.844\n",
      "[14, 1500] loss: 0.865\n",
      "[14, 1600] loss: 0.878\n",
      "[14, 1700] loss: 0.844\n",
      "[14, 1800] loss: 0.864\n",
      "[14, 1900] loss: 0.900\n",
      "[14, 2000] loss: 0.882\n",
      "[14, 2100] loss: 0.875\n",
      "[14, 2200] loss: 0.858\n",
      "[15, 100] loss: 0.871\n",
      "[15, 200] loss: 0.868\n",
      "[15, 300] loss: 0.852\n",
      "[15, 400] loss: 0.893\n",
      "[15, 500] loss: 0.866\n",
      "[15, 600] loss: 0.873\n",
      "[15, 700] loss: 0.880\n",
      "[15, 800] loss: 0.854\n",
      "[15, 900] loss: 0.867\n",
      "[15, 1000] loss: 0.861\n",
      "[15, 1100] loss: 0.869\n",
      "[15, 1200] loss: 0.861\n",
      "[15, 1300] loss: 0.878\n",
      "[15, 1400] loss: 0.875\n",
      "[15, 1500] loss: 0.856\n",
      "[15, 1600] loss: 0.873\n",
      "[15, 1700] loss: 0.850\n",
      "[15, 1800] loss: 0.844\n",
      "[15, 1900] loss: 0.868\n",
      "[15, 2000] loss: 0.885\n",
      "[15, 2100] loss: 0.855\n",
      "[15, 2200] loss: 0.877\n",
      "[16, 100] loss: 0.869\n",
      "[16, 200] loss: 0.860\n",
      "[16, 300] loss: 0.863\n",
      "[16, 400] loss: 0.875\n",
      "[16, 500] loss: 0.857\n",
      "[16, 600] loss: 0.897\n",
      "[16, 700] loss: 0.852\n",
      "[16, 800] loss: 0.884\n",
      "[16, 900] loss: 0.856\n",
      "[16, 1000] loss: 0.868\n",
      "[16, 1100] loss: 0.883\n",
      "[16, 1200] loss: 0.849\n",
      "[16, 1300] loss: 0.861\n",
      "[16, 1400] loss: 0.868\n",
      "[16, 1500] loss: 0.870\n",
      "[16, 1600] loss: 0.870\n",
      "[16, 1700] loss: 0.863\n",
      "[16, 1800] loss: 0.855\n",
      "[16, 1900] loss: 0.887\n",
      "[16, 2000] loss: 0.866\n",
      "[16, 2100] loss: 0.828\n",
      "[16, 2200] loss: 0.859\n",
      "[17, 100] loss: 0.869\n",
      "[17, 200] loss: 0.882\n",
      "[17, 300] loss: 0.859\n",
      "[17, 400] loss: 0.863\n",
      "[17, 500] loss: 0.866\n",
      "[17, 600] loss: 0.869\n",
      "[17, 700] loss: 0.876\n",
      "[17, 800] loss: 0.869\n",
      "[17, 900] loss: 0.867\n",
      "[17, 1000] loss: 0.843\n",
      "[17, 1100] loss: 0.879\n",
      "[17, 1200] loss: 0.876\n",
      "[17, 1300] loss: 0.872\n",
      "[17, 1400] loss: 0.866\n",
      "[17, 1500] loss: 0.863\n",
      "[17, 1600] loss: 0.843\n",
      "[17, 1700] loss: 0.880\n",
      "[17, 1800] loss: 0.830\n",
      "[17, 1900] loss: 0.864\n",
      "[17, 2000] loss: 0.865\n",
      "[17, 2100] loss: 0.868\n",
      "[17, 2200] loss: 0.855\n",
      "[18, 100] loss: 0.886\n",
      "[18, 200] loss: 0.900\n",
      "[18, 300] loss: 0.867\n",
      "[18, 400] loss: 0.837\n",
      "[18, 500] loss: 0.893\n",
      "[18, 600] loss: 0.871\n",
      "[18, 700] loss: 0.862\n",
      "[18, 800] loss: 0.850\n",
      "[18, 900] loss: 0.864\n",
      "[18, 1000] loss: 0.867\n",
      "[18, 1100] loss: 0.840\n",
      "[18, 1200] loss: 0.867\n",
      "[18, 1300] loss: 0.852\n",
      "[18, 1400] loss: 0.863\n",
      "[18, 1500] loss: 0.867\n",
      "[18, 1600] loss: 0.860\n",
      "[18, 1700] loss: 0.865\n",
      "[18, 1800] loss: 0.897\n",
      "[18, 1900] loss: 0.886\n",
      "[18, 2000] loss: 0.877\n",
      "[18, 2100] loss: 0.833\n",
      "[18, 2200] loss: 0.845\n",
      "[19, 100] loss: 0.867\n",
      "[19, 200] loss: 0.859\n",
      "[19, 300] loss: 0.851\n",
      "[19, 400] loss: 0.880\n",
      "[19, 500] loss: 0.874\n",
      "[19, 600] loss: 0.844\n",
      "[19, 700] loss: 0.883\n",
      "[19, 800] loss: 0.861\n",
      "[19, 900] loss: 0.859\n",
      "[19, 1000] loss: 0.877\n",
      "[19, 1100] loss: 0.865\n",
      "[19, 1200] loss: 0.864\n",
      "[19, 1300] loss: 0.837\n",
      "[19, 1400] loss: 0.855\n",
      "[19, 1500] loss: 0.873\n",
      "[19, 1600] loss: 0.867\n",
      "[19, 1700] loss: 0.841\n",
      "[19, 1800] loss: 0.870\n",
      "[19, 1900] loss: 0.866\n",
      "[19, 2000] loss: 0.888\n",
      "[19, 2100] loss: 0.867\n",
      "[19, 2200] loss: 0.865\n",
      "[20, 100] loss: 0.857\n",
      "[20, 200] loss: 0.890\n",
      "[20, 300] loss: 0.875\n",
      "[20, 400] loss: 0.863\n",
      "[20, 500] loss: 0.854\n",
      "[20, 600] loss: 0.852\n",
      "[20, 700] loss: 0.873\n",
      "[20, 800] loss: 0.867\n",
      "[20, 900] loss: 0.890\n",
      "[20, 1000] loss: 0.863\n",
      "[20, 1100] loss: 0.881\n",
      "[20, 1200] loss: 0.858\n",
      "[20, 1300] loss: 0.871\n",
      "[20, 1400] loss: 0.848\n",
      "[20, 1500] loss: 0.882\n",
      "[20, 1600] loss: 0.866\n",
      "[20, 1700] loss: 0.858\n",
      "[20, 1800] loss: 0.851\n",
      "[20, 1900] loss: 0.852\n",
      "[20, 2000] loss: 0.857\n",
      "[20, 2100] loss: 0.873\n",
      "[20, 2200] loss: 0.857\n",
      "[21, 100] loss: 0.866\n",
      "[21, 200] loss: 0.881\n",
      "[21, 300] loss: 0.846\n",
      "[21, 400] loss: 0.864\n",
      "[21, 500] loss: 0.856\n",
      "[21, 600] loss: 0.869\n",
      "[21, 700] loss: 0.860\n",
      "[21, 800] loss: 0.830\n",
      "[21, 900] loss: 0.856\n",
      "[21, 1000] loss: 0.883\n",
      "[21, 1100] loss: 0.858\n",
      "[21, 1200] loss: 0.870\n",
      "[21, 1300] loss: 0.877\n",
      "[21, 1400] loss: 0.872\n",
      "[21, 1500] loss: 0.857\n",
      "[21, 1600] loss: 0.837\n",
      "[21, 1700] loss: 0.860\n",
      "[21, 1800] loss: 0.883\n",
      "[21, 1900] loss: 0.859\n",
      "[21, 2000] loss: 0.891\n",
      "[21, 2100] loss: 0.901\n",
      "[21, 2200] loss: 0.851\n",
      "[22, 100] loss: 0.851\n",
      "[22, 200] loss: 0.867\n",
      "[22, 300] loss: 0.868\n",
      "[22, 400] loss: 0.849\n",
      "[22, 500] loss: 0.887\n",
      "[22, 600] loss: 0.844\n",
      "[22, 700] loss: 0.888\n",
      "[22, 800] loss: 0.849\n",
      "[22, 900] loss: 0.880\n",
      "[22, 1000] loss: 0.859\n",
      "[22, 1100] loss: 0.870\n",
      "[22, 1200] loss: 0.859\n",
      "[22, 1300] loss: 0.870\n",
      "[22, 1400] loss: 0.859\n",
      "[22, 1500] loss: 0.865\n",
      "[22, 1600] loss: 0.870\n",
      "[22, 1700] loss: 0.849\n",
      "[22, 1800] loss: 0.863\n",
      "[22, 1900] loss: 0.862\n",
      "[22, 2000] loss: 0.890\n",
      "[22, 2100] loss: 0.858\n",
      "[22, 2200] loss: 0.865\n",
      "[23, 100] loss: 0.849\n",
      "[23, 200] loss: 0.888\n",
      "[23, 300] loss: 0.853\n",
      "[23, 400] loss: 0.876\n",
      "[23, 500] loss: 0.859\n",
      "[23, 600] loss: 0.854\n",
      "[23, 700] loss: 0.859\n",
      "[23, 800] loss: 0.859\n",
      "[23, 900] loss: 0.886\n",
      "[23, 1000] loss: 0.874\n",
      "[23, 1100] loss: 0.889\n",
      "[23, 1200] loss: 0.879\n",
      "[23, 1300] loss: 0.844\n",
      "[23, 1400] loss: 0.860\n",
      "[23, 1500] loss: 0.847\n",
      "[23, 1600] loss: 0.868\n",
      "[23, 1700] loss: 0.867\n",
      "[23, 1800] loss: 0.869\n",
      "[23, 1900] loss: 0.861\n",
      "[23, 2000] loss: 0.880\n",
      "[23, 2100] loss: 0.831\n",
      "[23, 2200] loss: 0.853\n",
      "[24, 100] loss: 0.852\n",
      "[24, 200] loss: 0.875\n",
      "[24, 300] loss: 0.863\n",
      "[24, 400] loss: 0.869\n",
      "[24, 500] loss: 0.843\n",
      "[24, 600] loss: 0.856\n",
      "[24, 700] loss: 0.883\n",
      "[24, 800] loss: 0.862\n",
      "[24, 900] loss: 0.856\n",
      "[24, 1000] loss: 0.871\n",
      "[24, 1100] loss: 0.854\n",
      "[24, 1200] loss: 0.862\n",
      "[24, 1300] loss: 0.860\n",
      "[24, 1400] loss: 0.879\n",
      "[24, 1500] loss: 0.851\n",
      "[24, 1600] loss: 0.889\n",
      "[24, 1700] loss: 0.890\n",
      "[24, 1800] loss: 0.827\n",
      "[24, 1900] loss: 0.863\n",
      "[24, 2000] loss: 0.861\n",
      "[24, 2100] loss: 0.890\n",
      "[24, 2200] loss: 0.853\n",
      "[25, 100] loss: 0.859\n",
      "[25, 200] loss: 0.845\n",
      "[25, 300] loss: 0.874\n",
      "[25, 400] loss: 0.852\n",
      "[25, 500] loss: 0.858\n",
      "[25, 600] loss: 0.871\n",
      "[25, 700] loss: 0.873\n",
      "[25, 800] loss: 0.856\n",
      "[25, 900] loss: 0.856\n",
      "[25, 1000] loss: 0.862\n",
      "[25, 1100] loss: 0.858\n",
      "[25, 1200] loss: 0.882\n",
      "[25, 1300] loss: 0.850\n",
      "[25, 1400] loss: 0.884\n",
      "[25, 1500] loss: 0.845\n",
      "[25, 1600] loss: 0.871\n",
      "[25, 1700] loss: 0.870\n",
      "[25, 1800] loss: 0.867\n",
      "[25, 1900] loss: 0.866\n",
      "[25, 2000] loss: 0.855\n",
      "[25, 2100] loss: 0.880\n",
      "[25, 2200] loss: 0.852\n"
     ]
    }
   ],
   "source": [
    "# Initialize the model\n",
    "transformer_model = Transformer(num_tokens=num_bins, d_model=64, nhead=4, num_classes=num_classes)\n",
    "\n",
    "# Loss and Optimizer\n",
    "criterion = nn.CrossEntropyLoss()\n",
    "optimizer = torch.optim.Adam(transformer_model.parameters(), lr=0.001)\n",
    "\n",
    "# PyTorchModel Wrapper\n",
    "model = PyTorchModel(transformer_model, criterion, optimizer, device)\n",
    "\n",
    "# Train the model\n",
    "model.fit(train_dataloader, num_epochs=25)\n",
    "\n",
    "# For prediction, create a DataLoader for test data and use model.predict\n",
    "# test_dataloader = DataLoader(test_dataset, batch_size=32, shuffle=False)\n",
    "# predictions = model.predict(test_dataloader)\n"
   ],
   "metadata": {
    "collapsed": false,
    "ExecuteTime": {
     "end_time": "2023-12-18T13:28:27.268968600Z",
     "start_time": "2023-12-18T12:26:47.901124200Z"
    }
   },
   "id": "67a59f58694e395e"
  },
  {
   "cell_type": "code",
   "execution_count": null,
   "outputs": [],
   "source": [
    "#todo LOOCV based on candidate-id, select all samples from X number of candidates (men and women balanced maybe)\n",
    "#todo use currently done test set as validation set\n",
    "#todo integrate validation set performance metrics into training"
   ],
   "metadata": {
    "collapsed": false
   },
   "id": "f363dacd6c9f9658"
  }
 ],
 "metadata": {
  "kernelspec": {
   "display_name": "Python 3",
   "language": "python",
   "name": "python3"
  },
  "language_info": {
   "codemirror_mode": {
    "name": "ipython",
    "version": 2
   },
   "file_extension": ".py",
   "mimetype": "text/x-python",
   "name": "python",
   "nbconvert_exporter": "python",
   "pygments_lexer": "ipython2",
   "version": "2.7.6"
  }
 },
 "nbformat": 4,
 "nbformat_minor": 5
}
