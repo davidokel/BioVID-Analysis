{
 "cells": [
  {
   "cell_type": "markdown",
   "source": [
    "# Processing"
   ],
   "metadata": {
    "collapsed": false
   },
   "id": "4fb1782bca76cd71"
  },
  {
   "cell_type": "code",
   "execution_count": 13,
   "outputs": [],
   "source": [
    "import matplotlib.pyplot as plt\n",
    "import mne\n",
    "import os"
   ],
   "metadata": {
    "collapsed": false,
    "ExecuteTime": {
     "end_time": "2023-12-28T17:14:10.069741600Z",
     "start_time": "2023-12-28T17:14:10.066740400Z"
    }
   },
   "id": "65c6ffc52856ba01"
  },
  {
   "cell_type": "code",
   "execution_count": 2,
   "outputs": [
    {
     "name": "stderr",
     "output_type": "stream",
     "text": [
      "/mnt/c/Users/david/OneDrive/University - Academia/MSc - AI/Thesis/BioVid/SupportCode/pretraining.py:8: RuntimeWarning: Limited 1 annotation(s) that were expanding outside the data range.\n",
      "  raw_signal_data = mne.io.read_raw_edf(file_path, preload=True, verbose=False)\n",
      "/mnt/c/Users/david/OneDrive/University - Academia/MSc - AI/Thesis/BioVid/SupportCode/pretraining.py:8: RuntimeWarning: Limited 1 annotation(s) that were expanding outside the data range.\n",
      "  raw_signal_data = mne.io.read_raw_edf(file_path, preload=True, verbose=False)\n",
      "/mnt/c/Users/david/OneDrive/University - Academia/MSc - AI/Thesis/BioVid/SupportCode/pretraining.py:8: RuntimeWarning: Limited 1 annotation(s) that were expanding outside the data range.\n",
      "  raw_signal_data = mne.io.read_raw_edf(file_path, preload=True, verbose=False)\n",
      "/mnt/c/Users/david/OneDrive/University - Academia/MSc - AI/Thesis/BioVid/SupportCode/pretraining.py:8: RuntimeWarning: Limited 1 annotation(s) that were expanding outside the data range.\n",
      "  raw_signal_data = mne.io.read_raw_edf(file_path, preload=True, verbose=False)\n",
      "/mnt/c/Users/david/OneDrive/University - Academia/MSc - AI/Thesis/BioVid/SupportCode/pretraining.py:8: RuntimeWarning: Limited 1 annotation(s) that were expanding outside the data range.\n",
      "  raw_signal_data = mne.io.read_raw_edf(file_path, preload=True, verbose=False)\n",
      "/mnt/c/Users/david/OneDrive/University - Academia/MSc - AI/Thesis/BioVid/SupportCode/pretraining.py:8: RuntimeWarning: Limited 1 annotation(s) that were expanding outside the data range.\n",
      "  raw_signal_data = mne.io.read_raw_edf(file_path, preload=True, verbose=False)\n",
      "/mnt/c/Users/david/OneDrive/University - Academia/MSc - AI/Thesis/BioVid/SupportCode/pretraining.py:8: RuntimeWarning: Limited 1 annotation(s) that were expanding outside the data range.\n",
      "  raw_signal_data = mne.io.read_raw_edf(file_path, preload=True, verbose=False)\n",
      "/mnt/c/Users/david/OneDrive/University - Academia/MSc - AI/Thesis/BioVid/SupportCode/pretraining.py:8: RuntimeWarning: Limited 1 annotation(s) that were expanding outside the data range.\n",
      "  raw_signal_data = mne.io.read_raw_edf(file_path, preload=True, verbose=False)\n",
      "/mnt/c/Users/david/OneDrive/University - Academia/MSc - AI/Thesis/BioVid/SupportCode/pretraining.py:8: RuntimeWarning: Limited 1 annotation(s) that were expanding outside the data range.\n",
      "  raw_signal_data = mne.io.read_raw_edf(file_path, preload=True, verbose=False)\n",
      "/mnt/c/Users/david/OneDrive/University - Academia/MSc - AI/Thesis/BioVid/SupportCode/pretraining.py:8: RuntimeWarning: Limited 1 annotation(s) that were expanding outside the data range.\n",
      "  raw_signal_data = mne.io.read_raw_edf(file_path, preload=True, verbose=False)\n",
      "/mnt/c/Users/david/OneDrive/University - Academia/MSc - AI/Thesis/BioVid/SupportCode/pretraining.py:8: RuntimeWarning: Limited 1 annotation(s) that were expanding outside the data range.\n",
      "  raw_signal_data = mne.io.read_raw_edf(file_path, preload=True, verbose=False)\n",
      "/mnt/c/Users/david/OneDrive/University - Academia/MSc - AI/Thesis/BioVid/SupportCode/pretraining.py:8: RuntimeWarning: Limited 1 annotation(s) that were expanding outside the data range.\n",
      "  raw_signal_data = mne.io.read_raw_edf(file_path, preload=True, verbose=False)\n",
      "/mnt/c/Users/david/OneDrive/University - Academia/MSc - AI/Thesis/BioVid/SupportCode/pretraining.py:8: RuntimeWarning: Limited 1 annotation(s) that were expanding outside the data range.\n",
      "  raw_signal_data = mne.io.read_raw_edf(file_path, preload=True, verbose=False)\n",
      "/mnt/c/Users/david/OneDrive/University - Academia/MSc - AI/Thesis/BioVid/SupportCode/pretraining.py:8: RuntimeWarning: Limited 1 annotation(s) that were expanding outside the data range.\n",
      "  raw_signal_data = mne.io.read_raw_edf(file_path, preload=True, verbose=False)\n",
      "/mnt/c/Users/david/OneDrive/University - Academia/MSc - AI/Thesis/BioVid/SupportCode/pretraining.py:8: RuntimeWarning: Limited 1 annotation(s) that were expanding outside the data range.\n",
      "  raw_signal_data = mne.io.read_raw_edf(file_path, preload=True, verbose=False)\n",
      "/mnt/c/Users/david/OneDrive/University - Academia/MSc - AI/Thesis/BioVid/SupportCode/pretraining.py:8: RuntimeWarning: Limited 1 annotation(s) that were expanding outside the data range.\n",
      "  raw_signal_data = mne.io.read_raw_edf(file_path, preload=True, verbose=False)\n"
     ]
    }
   ],
   "source": [
    "from SupportCode.pretraining import load_scientisst_move_dataset\n",
    "\n",
    "data = load_scientisst_move_dataset()"
   ],
   "metadata": {
    "collapsed": false,
    "ExecuteTime": {
     "end_time": "2023-12-28T17:00:24.982017900Z",
     "start_time": "2023-12-28T17:00:14.162253100Z"
    }
   },
   "id": "cd5339b634936cc7"
  },
  {
   "cell_type": "code",
   "execution_count": 9,
   "outputs": [],
   "source": [
    "from SupportCode.pretraining import split_signals_to_windows\n",
    "\n",
    "data_windowed = split_signals_to_windows(data, sampling_rate=500, window_length=4.5)"
   ],
   "metadata": {
    "collapsed": false,
    "ExecuteTime": {
     "end_time": "2023-12-28T17:10:24.028061900Z",
     "start_time": "2023-12-28T17:10:10.156006300Z"
    }
   },
   "id": "b73462134cbdb334"
  },
  {
   "cell_type": "code",
   "execution_count": 10,
   "outputs": [
    {
     "name": "stdout",
     "output_type": "stream",
     "text": [
      "0\n"
     ]
    },
    {
     "ename": "IndexError",
     "evalue": "list index out of range",
     "output_type": "error",
     "traceback": [
      "\u001B[0;31m---------------------------------------------------------------------------\u001B[0m",
      "\u001B[0;31mIndexError\u001B[0m                                Traceback (most recent call last)",
      "Cell \u001B[0;32mIn[10], line 2\u001B[0m\n\u001B[1;32m      1\u001B[0m \u001B[38;5;28mprint\u001B[39m(\u001B[38;5;28mlen\u001B[39m(data_windowed_filtered))\n\u001B[0;32m----> 2\u001B[0m \u001B[38;5;28mprint\u001B[39m(\u001B[38;5;28mlen\u001B[39m(data_windowed_filtered[\u001B[38;5;241m0\u001B[39m][\u001B[38;5;124m'\u001B[39m\u001B[38;5;124msignals\u001B[39m\u001B[38;5;124m'\u001B[39m][\u001B[38;5;124m'\u001B[39m\u001B[38;5;124mgsr\u001B[39m\u001B[38;5;124m'\u001B[39m]))\n",
      "\u001B[0;31mIndexError\u001B[0m: list index out of range"
     ]
    }
   ],
   "source": [
    "print(len(data_windowed))\n",
    "print(len(data_windowed[0]['signals']['gsr']))"
   ],
   "metadata": {
    "collapsed": false,
    "ExecuteTime": {
     "end_time": "2023-12-28T17:11:54.658463200Z",
     "start_time": "2023-12-28T17:11:54.652462700Z"
    }
   },
   "id": "d39a4a5f7fbcaee8"
  },
  {
   "cell_type": "code",
   "execution_count": 5,
   "outputs": [],
   "source": [
    "data_windowed[4]"
   ],
   "metadata": {
    "collapsed": false
   },
   "id": "1302ff1ef41c1324"
  },
  {
   "cell_type": "code",
   "execution_count": 6,
   "outputs": [],
   "source": [
    "for index, item in enumerate(data_windowed):\n",
    "    if len(item['signals']['ecg']) == 0 or len(item['signals']['gsr']) == 0:\n",
    "        print(f\"Empty signal found in candidate: {item['candidate']}, at index: {index}\")"
   ],
   "metadata": {
    "collapsed": false
   },
   "id": "fc54906799575a4b"
  },
  {
   "cell_type": "code",
   "execution_count": 7,
   "outputs": [],
   "source": [
    "plt.plot(data[0]['signals']['ecg'])"
   ],
   "metadata": {
    "collapsed": false
   },
   "id": "7662f6fc7c9456d7"
  },
  {
   "cell_type": "code",
   "execution_count": 8,
   "outputs": [],
   "source": [
    "from SupportCode.data_processing import preprocess_signals\n",
    "\n",
    "data_filtered = preprocess_signals(data_windowed, 500, down_sample=256)"
   ],
   "metadata": {
    "collapsed": false
   },
   "id": "33617f80a0ccb750"
  },
  {
   "cell_type": "code",
   "execution_count": null,
   "outputs": [],
   "source": [
    "from SupportCode.data_processing import plot_signal_samples\n",
    "import random\n",
    "\n",
    "random_indices = random.sample(range(len(data_windowed)), 3)\n",
    "\n",
    "plot_signal_samples(data_windowed, data_filtered, random_indices, 500, 256)"
   ],
   "metadata": {
    "collapsed": false,
    "ExecuteTime": {
     "end_time": "2023-12-28T17:00:38.368303100Z",
     "start_time": "2023-12-28T17:00:38.366797800Z"
    }
   },
   "id": "f47d0ec6a6131083"
  },
  {
   "cell_type": "code",
   "execution_count": null,
   "outputs": [],
   "source": [
    "#todo load dataset\n",
    "#todo set up to pretrain self supervised\n",
    "#todo set up evaluation script to take two models - 1: representation model (transformer, lstm etc.) and 2: decision model (mlp, svm etc.)\n",
    "#todo this should allow the model output size to be altered each run"
   ],
   "metadata": {
    "collapsed": false,
    "ExecuteTime": {
     "start_time": "2023-12-28T17:00:38.371307100Z"
    }
   },
   "id": "9fdb44112ab2c71a"
  }
 ],
 "metadata": {
  "kernelspec": {
   "display_name": "Python 3",
   "language": "python",
   "name": "python3"
  },
  "language_info": {
   "codemirror_mode": {
    "name": "ipython",
    "version": 2
   },
   "file_extension": ".py",
   "mimetype": "text/x-python",
   "name": "python",
   "nbconvert_exporter": "python",
   "pygments_lexer": "ipython2",
   "version": "2.7.6"
  }
 },
 "nbformat": 4,
 "nbformat_minor": 5
}
